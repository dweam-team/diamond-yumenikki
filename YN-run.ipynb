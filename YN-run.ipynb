{
 "cells": [
  {
   "cell_type": "code",
   "execution_count": 1,
   "id": "d5fd1554-6021-4aa9-a8a3-6bb1e1c3350a",
   "metadata": {
    "execution": {
     "iopub.execute_input": "2024-12-20T23:45:32.497273Z",
     "iopub.status.busy": "2024-12-20T23:45:32.496953Z",
     "iopub.status.idle": "2024-12-20T23:45:32.510597Z",
     "shell.execute_reply": "2024-12-20T23:45:32.509302Z",
     "shell.execute_reply.started": "2024-12-20T23:45:32.497249Z"
    }
   },
   "outputs": [],
   "source": [
    "import os\n",
    "import sys"
   ]
  },
  {
   "cell_type": "code",
   "execution_count": 2,
   "id": "1d5ba66c-cc84-46ec-8c7f-df2d0e2c8937",
   "metadata": {
    "execution": {
     "iopub.execute_input": "2024-12-20T23:45:32.512344Z",
     "iopub.status.busy": "2024-12-20T23:45:32.511831Z",
     "iopub.status.idle": "2024-12-20T23:45:32.516197Z",
     "shell.execute_reply": "2024-12-20T23:45:32.515443Z",
     "shell.execute_reply.started": "2024-12-20T23:45:32.512314Z"
    }
   },
   "outputs": [],
   "source": [
    "os.environ['CUDA_VISIBLE_DEVICES'] = '1'"
   ]
  },
  {
   "cell_type": "code",
   "execution_count": 3,
   "id": "3961e6a4-e72e-4c89-b03b-1a92662abb2b",
   "metadata": {
    "execution": {
     "iopub.execute_input": "2024-12-20T23:45:32.517606Z",
     "iopub.status.busy": "2024-12-20T23:45:32.517051Z",
     "iopub.status.idle": "2024-12-20T23:45:32.522499Z",
     "shell.execute_reply": "2024-12-20T23:45:32.521812Z",
     "shell.execute_reply.started": "2024-12-20T23:45:32.517578Z"
    },
    "scrolled": true
   },
   "outputs": [],
   "source": [
    "if not os.path.abspath(os.curdir).endswith('diamond'):\n",
    "    os.chdir('./AI-MarioKart64/diamond')"
   ]
  },
  {
   "cell_type": "code",
   "execution_count": 4,
   "id": "cf25a140-35ad-4ca8-afb7-d3b95eb88c32",
   "metadata": {
    "execution": {
     "iopub.execute_input": "2024-12-20T23:45:32.524527Z",
     "iopub.status.busy": "2024-12-20T23:45:32.523883Z",
     "iopub.status.idle": "2024-12-20T23:45:32.532327Z",
     "shell.execute_reply": "2024-12-20T23:45:32.531639Z",
     "shell.execute_reply.started": "2024-12-20T23:45:32.524500Z"
    }
   },
   "outputs": [
    {
     "data": {
      "text/plain": [
       "'/home/mluser/git/dweam/AI-MarioKart64/diamond'"
      ]
     },
     "execution_count": 4,
     "metadata": {},
     "output_type": "execute_result"
    }
   ],
   "source": [
    "os.path.abspath(os.curdir)"
   ]
  },
  {
   "cell_type": "code",
   "execution_count": 5,
   "id": "6c0dacb8-2183-41e9-8731-554d8350805e",
   "metadata": {
    "execution": {
     "iopub.execute_input": "2024-12-20T23:45:32.533393Z",
     "iopub.status.busy": "2024-12-20T23:45:32.533106Z",
     "iopub.status.idle": "2024-12-20T23:45:32.986328Z",
     "shell.execute_reply": "2024-12-20T23:45:32.985534Z",
     "shell.execute_reply.started": "2024-12-20T23:45:32.533371Z"
    }
   },
   "outputs": [
    {
     "name": "stdout",
     "output_type": "stream",
     "text": [
      "\u001b[38;5;238m───────┬────────────────────────────────────────────────────────────────────────\u001b[0m\n",
      "       \u001b[38;5;238m│ \u001b[0mFile: \u001b[1m./config/env/csgo.yaml\u001b[0m\n",
      "\u001b[38;5;238m───────┼────────────────────────────────────────────────────────────────────────\u001b[0m\n",
      "\u001b[38;5;238m   1\u001b[0m   \u001b[38;5;238m│\u001b[0m \u001b[38;5;203mtrain\u001b[0m\u001b[38;5;231m:\u001b[0m\n",
      "\u001b[38;5;238m   2\u001b[0m   \u001b[38;5;238m│\u001b[0m \u001b[38;5;231m  \u001b[0m\u001b[38;5;203mid\u001b[0m\u001b[38;5;231m:\u001b[0m\u001b[38;5;231m \u001b[0m\u001b[38;5;186mcsgo\u001b[0m\n",
      "\u001b[38;5;238m   3\u001b[0m   \u001b[38;5;238m│\u001b[0m \u001b[38;5;231m  \u001b[0m\u001b[38;5;203msize\u001b[0m\u001b[38;5;231m:\u001b[0m\u001b[38;5;231m \u001b[0m\u001b[38;5;231m[\u001b[0m\u001b[38;5;141m320\u001b[0m\u001b[38;5;231m,\u001b[0m\u001b[38;5;231m \u001b[0m\u001b[38;5;141m240\u001b[0m\u001b[38;5;231m]\u001b[0m\n",
      "\u001b[38;5;238m   4\u001b[0m \u001b[33m~\u001b[0m \u001b[38;5;238m│\u001b[0m \u001b[38;5;203mnum_actions\u001b[0m\u001b[38;5;231m:\u001b[0m\u001b[38;5;231m \u001b[0m\u001b[38;5;141m5\u001b[0m\n",
      "\u001b[38;5;238m   5\u001b[0m \u001b[33m~\u001b[0m \u001b[38;5;238m│\u001b[0m \u001b[38;5;203mpath_data_low_res\u001b[0m\u001b[38;5;231m:\u001b[0m\u001b[38;5;231m \u001b[0m\u001b[38;5;186m/home/mluser/git/dweam/AI-MarioKart64/diamond/yn-pro\u001b[0m\n",
      "\u001b[38;5;238m    \u001b[0m   \u001b[38;5;238m│\u001b[0m \u001b[38;5;186mcessed/low_res\u001b[0m\n",
      "\u001b[38;5;238m   6\u001b[0m \u001b[33m~\u001b[0m \u001b[38;5;238m│\u001b[0m \u001b[38;5;203mpath_data_full_res\u001b[0m\u001b[38;5;231m:\u001b[0m\u001b[38;5;231m \u001b[0m\u001b[38;5;186m/home/mluser/git/dweam/AI-MarioKart64/diamond/yn-pr\u001b[0m\n",
      "\u001b[38;5;238m    \u001b[0m   \u001b[38;5;238m│\u001b[0m \u001b[38;5;186mocessed/full_res\u001b[0m\n",
      "\u001b[38;5;238m   7\u001b[0m   \u001b[38;5;238m│\u001b[0m \u001b[38;5;203mkeymap\u001b[0m\u001b[38;5;231m:\u001b[0m\u001b[38;5;231m \u001b[0m\u001b[38;5;186mcsgo\u001b[0m\n",
      "\u001b[38;5;238m───────┴────────────────────────────────────────────────────────────────────────\u001b[0m\n"
     ]
    }
   ],
   "source": [
    "!~/.cargo/bin/bat \"./config/env/csgo.yaml\""
   ]
  },
  {
   "cell_type": "code",
   "execution_count": 6,
   "id": "60bee6cc-d325-4083-9080-056432fe50be",
   "metadata": {
    "execution": {
     "iopub.execute_input": "2024-12-20T23:45:32.997316Z",
     "iopub.status.busy": "2024-12-20T23:45:32.997045Z",
     "iopub.status.idle": "2024-12-20T23:45:33.002723Z",
     "shell.execute_reply": "2024-12-20T23:45:33.001623Z",
     "shell.execute_reply.started": "2024-12-20T23:45:32.997285Z"
    }
   },
   "outputs": [],
   "source": [
    "import glob\n",
    "import shutil"
   ]
  },
  {
   "cell_type": "code",
   "execution_count": 7,
   "id": "8660723b-f546-4b76-b24a-d53bb57d60d1",
   "metadata": {
    "execution": {
     "iopub.execute_input": "2024-12-20T23:45:33.005522Z",
     "iopub.status.busy": "2024-12-20T23:45:33.005132Z",
     "iopub.status.idle": "2024-12-20T23:45:33.012103Z",
     "shell.execute_reply": "2024-12-20T23:45:33.011241Z",
     "shell.execute_reply.started": "2024-12-20T23:45:33.005496Z"
    }
   },
   "outputs": [
    {
     "data": {
      "text/plain": [
       "['outputs/2024-12-17/21-40-57/wandb/debug.log',\n",
       " 'outputs/2024-12-17/21-40-57/wandb/wandb-resume.json',\n",
       " 'outputs/2024-12-17/21-40-57/wandb/debug-internal.log',\n",
       " 'outputs/2024-12-17/21-40-57/wandb/latest-run',\n",
       " 'outputs/2024-12-17/21-40-57/wandb/run-20241217_214103-nwatudvz',\n",
       " 'outputs/2024-12-17/21-40-57/checkpoints/info_for_import_script.json',\n",
       " 'outputs/2024-12-17/21-40-57/checkpoints/state.pt',\n",
       " 'outputs/2024-12-17/21-40-57/checkpoints/agent_versions',\n",
       " 'outputs/2024-12-17/21-40-57/scripts/import_run.py',\n",
       " 'outputs/2024-12-17/21-40-57/scripts/resume.sh',\n",
       " 'outputs/2024-12-17/21-40-57/config/trainer.yaml',\n",
       " 'outputs/2024-12-17/21-40-57/src/__init__.py',\n",
       " 'outputs/2024-12-17/21-40-57/src/process_dataset_hdf5.py',\n",
       " 'outputs/2024-12-17/21-40-57/src/coroutines',\n",
       " 'outputs/2024-12-17/21-40-57/src/process_dataset_tar.py',\n",
       " 'outputs/2024-12-17/21-40-57/src/__pycache__',\n",
       " 'outputs/2024-12-17/21-40-57/src/game',\n",
       " 'outputs/2024-12-17/21-40-57/src/csgo',\n",
       " 'outputs/2024-12-17/21-40-57/src/agent.py',\n",
       " 'outputs/2024-12-17/21-40-57/src/select_test_split.py',\n",
       " 'outputs/2024-12-17/21-40-57/src/spawn.py',\n",
       " 'outputs/2024-12-17/21-40-57/src/models',\n",
       " 'outputs/2024-12-17/21-40-57/src/utils.py',\n",
       " 'outputs/2024-12-17/21-40-57/src/envs',\n",
       " 'outputs/2024-12-17/21-40-57/src/trainer.py',\n",
       " 'outputs/2024-12-17/21-40-57/src/play.py',\n",
       " 'outputs/2024-12-17/21-40-57/src/data',\n",
       " 'outputs/2024-12-17/21-40-57/src/main.py']"
      ]
     },
     "execution_count": 7,
     "metadata": {},
     "output_type": "execute_result"
    }
   ],
   "source": [
    "glob.glob('outputs/*/*/*/*')"
   ]
  },
  {
   "cell_type": "code",
   "execution_count": 8,
   "id": "387c619b-d054-45e6-bdcc-8727612e6ded",
   "metadata": {
    "execution": {
     "iopub.execute_input": "2024-12-20T23:44:37.333362Z",
     "iopub.status.busy": "2024-12-20T23:44:37.332980Z",
     "iopub.status.idle": "2024-12-20T23:44:37.591070Z",
     "shell.execute_reply": "2024-12-20T23:44:37.590465Z",
     "shell.execute_reply.started": "2024-12-20T23:44:37.333337Z"
    }
   },
   "outputs": [],
   "source": [
    "trained_path = './trained'\n",
    "if os.path.exists(trained_path):\n",
    "    shutil.rmtree(trained_path)\n",
    "\n",
    "os.makedirs('./trained/csgo/spawn')\n",
    "os.makedirs('./trained/csgo/model')"
   ]
  },
  {
   "cell_type": "code",
   "execution_count": 9,
   "id": "109b5783-dfd0-4507-868e-1f5042523abd",
   "metadata": {
    "execution": {
     "iopub.execute_input": "2024-12-20T23:44:37.955357Z",
     "iopub.status.busy": "2024-12-20T23:44:37.954719Z",
     "iopub.status.idle": "2024-12-20T23:44:38.440208Z",
     "shell.execute_reply": "2024-12-20T23:44:38.439065Z",
     "shell.execute_reply.started": "2024-12-20T23:44:37.955331Z"
    }
   },
   "outputs": [
    {
     "name": "stdout",
     "output_type": "stream",
     "text": [
      "/home/mluser/.miniconda3/envs/jupyter/bin/python\n"
     ]
    }
   ],
   "source": [
    "!which python"
   ]
  },
  {
   "cell_type": "code",
   "execution_count": 10,
   "id": "b12d152c-62ff-4c0f-88fc-ba306cb3d308",
   "metadata": {
    "execution": {
     "iopub.execute_input": "2024-12-20T23:44:39.589111Z",
     "iopub.status.busy": "2024-12-20T23:44:39.588270Z",
     "iopub.status.idle": "2024-12-20T23:44:45.271055Z",
     "shell.execute_reply": "2024-12-20T23:44:45.270097Z",
     "shell.execute_reply.started": "2024-12-20T23:44:39.589060Z"
    }
   },
   "outputs": [
    {
     "name": "stdout",
     "output_type": "stream",
     "text": [
      "0: [0. 0. 1. 0. 0.]\n",
      "1: [0. 0. 1. 0. 0.]\n",
      "2: [0. 0. 1. 0. 0.]\n",
      "3: [0. 0. 1. 0. 0.]\n",
      "Saving act.npy of size (4, 5)\n",
      "Saving full_res.npy of size (4, 3, 240, 320)\n",
      "Saving next_act.npy of size (200, 5)\n",
      "Saving low_res.npy of size (4, 3, 48, 64)\n"
     ]
    }
   ],
   "source": [
    "!/home/mluser/.miniconda3/envs/dweam/bin/python src/spawn.py ./yn-processed/full_res/ ./trained"
   ]
  },
  {
   "cell_type": "code",
   "execution_count": 8,
   "id": "c30bd09d-43f4-4fe5-8b65-dfedd3729c16",
   "metadata": {
    "execution": {
     "iopub.execute_input": "2024-12-20T23:45:37.079764Z",
     "iopub.status.busy": "2024-12-20T23:45:37.079378Z",
     "iopub.status.idle": "2024-12-20T23:45:37.475116Z",
     "shell.execute_reply": "2024-12-20T23:45:37.473857Z",
     "shell.execute_reply.started": "2024-12-20T23:45:37.079740Z"
    }
   },
   "outputs": [
    {
     "ename": "FileNotFoundError",
     "evalue": "[Errno 2] No such file or directory: 'outputs/2024-12-17/21-40-57/checkpoints/agent_versions/agent_epoch_00720.pt'",
     "output_type": "error",
     "traceback": [
      "\u001b[0;31m---------------------------------------------------------------------------\u001b[0m",
      "\u001b[0;31mFileNotFoundError\u001b[0m                         Traceback (most recent call last)",
      "Cell \u001b[0;32mIn[8], line 1\u001b[0m\n\u001b[0;32m----> 1\u001b[0m \u001b[43mshutil\u001b[49m\u001b[38;5;241;43m.\u001b[39;49m\u001b[43mcopy\u001b[49m\u001b[43m(\u001b[49m\u001b[38;5;124;43m'\u001b[39;49m\u001b[38;5;124;43moutputs/2024-12-17/21-40-57/checkpoints/agent_versions/agent_epoch_00720.pt\u001b[39;49m\u001b[38;5;124;43m'\u001b[39;49m\u001b[43m,\u001b[49m\u001b[43m \u001b[49m\u001b[38;5;124;43m'\u001b[39;49m\u001b[38;5;124;43m./trained/csgo/model/ckpt.pt\u001b[39;49m\u001b[38;5;124;43m'\u001b[39;49m\u001b[43m)\u001b[49m\n",
      "File \u001b[0;32m~/.miniconda3/envs/dweam/lib/python3.11/shutil.py:431\u001b[0m, in \u001b[0;36mcopy\u001b[0;34m(src, dst, follow_symlinks)\u001b[0m\n\u001b[1;32m    429\u001b[0m \u001b[38;5;28;01mif\u001b[39;00m os\u001b[38;5;241m.\u001b[39mpath\u001b[38;5;241m.\u001b[39misdir(dst):\n\u001b[1;32m    430\u001b[0m     dst \u001b[38;5;241m=\u001b[39m os\u001b[38;5;241m.\u001b[39mpath\u001b[38;5;241m.\u001b[39mjoin(dst, os\u001b[38;5;241m.\u001b[39mpath\u001b[38;5;241m.\u001b[39mbasename(src))\n\u001b[0;32m--> 431\u001b[0m \u001b[43mcopyfile\u001b[49m\u001b[43m(\u001b[49m\u001b[43msrc\u001b[49m\u001b[43m,\u001b[49m\u001b[43m \u001b[49m\u001b[43mdst\u001b[49m\u001b[43m,\u001b[49m\u001b[43m \u001b[49m\u001b[43mfollow_symlinks\u001b[49m\u001b[38;5;241;43m=\u001b[39;49m\u001b[43mfollow_symlinks\u001b[49m\u001b[43m)\u001b[49m\n\u001b[1;32m    432\u001b[0m copymode(src, dst, follow_symlinks\u001b[38;5;241m=\u001b[39mfollow_symlinks)\n\u001b[1;32m    433\u001b[0m \u001b[38;5;28;01mreturn\u001b[39;00m dst\n",
      "File \u001b[0;32m~/.miniconda3/envs/dweam/lib/python3.11/shutil.py:256\u001b[0m, in \u001b[0;36mcopyfile\u001b[0;34m(src, dst, follow_symlinks)\u001b[0m\n\u001b[1;32m    254\u001b[0m     os\u001b[38;5;241m.\u001b[39msymlink(os\u001b[38;5;241m.\u001b[39mreadlink(src), dst)\n\u001b[1;32m    255\u001b[0m \u001b[38;5;28;01melse\u001b[39;00m:\n\u001b[0;32m--> 256\u001b[0m     \u001b[38;5;28;01mwith\u001b[39;00m \u001b[38;5;28;43mopen\u001b[39;49m\u001b[43m(\u001b[49m\u001b[43msrc\u001b[49m\u001b[43m,\u001b[49m\u001b[43m \u001b[49m\u001b[38;5;124;43m'\u001b[39;49m\u001b[38;5;124;43mrb\u001b[39;49m\u001b[38;5;124;43m'\u001b[39;49m\u001b[43m)\u001b[49m \u001b[38;5;28;01mas\u001b[39;00m fsrc:\n\u001b[1;32m    257\u001b[0m         \u001b[38;5;28;01mtry\u001b[39;00m:\n\u001b[1;32m    258\u001b[0m             \u001b[38;5;28;01mwith\u001b[39;00m \u001b[38;5;28mopen\u001b[39m(dst, \u001b[38;5;124m'\u001b[39m\u001b[38;5;124mwb\u001b[39m\u001b[38;5;124m'\u001b[39m) \u001b[38;5;28;01mas\u001b[39;00m fdst:\n\u001b[1;32m    259\u001b[0m                 \u001b[38;5;66;03m# macOS\u001b[39;00m\n",
      "\u001b[0;31mFileNotFoundError\u001b[0m: [Errno 2] No such file or directory: 'outputs/2024-12-17/21-40-57/checkpoints/agent_versions/agent_epoch_00720.pt'"
     ]
    }
   ],
   "source": [
    "shutil.copy('outputs/2024-12-17/21-40-57/checkpoints/agent_versions/agent_epoch_00720.pt', './trained/csgo/model/ckpt.pt')"
   ]
  },
  {
   "cell_type": "code",
   "execution_count": 9,
   "id": "cd1bfa95-f007-4e8f-86d8-f4ea66980e3a",
   "metadata": {
    "execution": {
     "iopub.execute_input": "2024-12-20T23:45:38.274123Z",
     "iopub.status.busy": "2024-12-20T23:45:38.273551Z",
     "iopub.status.idle": "2024-12-20T23:45:42.040636Z",
     "shell.execute_reply": "2024-12-20T23:45:42.039877Z",
     "shell.execute_reply.started": "2024-12-20T23:45:38.274068Z"
    },
    "jupyter": {
     "source_hidden": true
    }
   },
   "outputs": [],
   "source": [
    "import math\n",
    "import matplotlib.pyplot as plt\n",
    "import numpy as np\n",
    "import seaborn as sns\n",
    "import tqdm.auto as tqdm\n",
    "\n",
    "import PIL\n",
    "import PIL.Image\n",
    "\n",
    "from IPython.display import display\n",
    "\n",
    "def show_image(img: np.ndarray, *, filename=None, title=None, factor=6) -> None:\n",
    "    h, w, *_ = np.array(img).shape\n",
    "    ratio = h / w\n",
    "    fig = plt.figure(figsize=(factor / ratio, factor))\n",
    "    if title is not None:\n",
    "        plt.title(label=title)\n",
    "    plt.xticks([])\n",
    "    plt.yticks([])\n",
    "    plt.imshow(img, cmap='gray')\n",
    "    if filename is not None:\n",
    "        plt.savefig(filename)\n",
    "    #plt.show()\n",
    "    display(fig)\n",
    "    plt.close()\n",
    "\n",
    "\n",
    "def show_grid(images: np.ndarray, nr, nc, *, title=None, filename=None, factor=2.5, labels:list=None) -> None:\n",
    "    if nr * nc == 0:\n",
    "        return\n",
    "    fig, axs = plt.subplots(nr, nc, figsize=(factor*nc, factor*nr))\n",
    "    if title is not None:\n",
    "        plt.suptitle(title)\n",
    "    if nr * nc > 1:\n",
    "        axs = axs.flatten()\n",
    "    else:\n",
    "        axs = [axs]\n",
    "    for i in tqdm.trange(min(len(axs), len(images)), leave=True):\n",
    "        ax = axs[i]\n",
    "        ax.set_xticks([])\n",
    "        ax.set_yticks([])\n",
    "        if i < len(images):\n",
    "            if labels is not None:\n",
    "                ax.set_title(labels[i])\n",
    "            ax.imshow(images[i], cmap='gray')\n",
    "    plt.tight_layout(pad=.3)\n",
    "    if filename is not None:\n",
    "        plt.savefig(filename)\n",
    "    #plt.show()\n",
    "    display(fig)\n",
    "    plt.close()\n",
    "\n",
    "def show_gridsq(images: np.ndarray, **kwargs) -> None:\n",
    "    n_sq = int(math.ceil(np.sqrt(len(images))))\n",
    "    nr, nc = n_sq, n_sq\n",
    "    if len(images) + n_sq <= n_sq * n_sq:\n",
    "        nr -= 1\n",
    "    show_grid(images=images, nr=nr, nc=nc, **kwargs)\n"
   ]
  },
  {
   "cell_type": "code",
   "execution_count": 10,
   "id": "907a36bd-a1dc-4d57-9afd-2e8b9d39a149",
   "metadata": {
    "execution": {
     "iopub.execute_input": "2024-12-20T23:45:42.042562Z",
     "iopub.status.busy": "2024-12-20T23:45:42.041872Z",
     "iopub.status.idle": "2024-12-20T23:45:42.047711Z",
     "shell.execute_reply": "2024-12-20T23:45:42.046937Z",
     "shell.execute_reply.started": "2024-12-20T23:45:42.042535Z"
    }
   },
   "outputs": [
    {
     "data": {
      "text/plain": [
       "['./trained/csgo/spawn/0/full_res.npy',\n",
       " './trained/csgo/spawn/0/full_res_2.png',\n",
       " './trained/csgo/spawn/0/full_res_1.png',\n",
       " './trained/csgo/spawn/0/full_res_3.png',\n",
       " './trained/csgo/spawn/0/next_act.npy',\n",
       " './trained/csgo/spawn/0/act.npy',\n",
       " './trained/csgo/spawn/0/full_res_0.png',\n",
       " './trained/csgo/spawn/0/low_res.npy']"
      ]
     },
     "execution_count": 10,
     "metadata": {},
     "output_type": "execute_result"
    }
   ],
   "source": [
    "glob.glob('./trained/csgo/spawn/*/*')"
   ]
  },
  {
   "cell_type": "code",
   "execution_count": 14,
   "id": "aba94512-3d50-48b3-b209-fec99aa12233",
   "metadata": {
    "execution": {
     "iopub.execute_input": "2024-12-20T23:46:06.857149Z",
     "iopub.status.busy": "2024-12-20T23:46:06.856622Z",
     "iopub.status.idle": "2024-12-20T23:46:07.065897Z",
     "shell.execute_reply": "2024-12-20T23:46:07.065375Z",
     "shell.execute_reply.started": "2024-12-20T23:46:06.857128Z"
    }
   },
   "outputs": [
    {
     "data": {
      "application/vnd.jupyter.widget-view+json": {
       "model_id": "2d30e9d9b38d4b19a1f7af0fe3719393",
       "version_major": 2,
       "version_minor": 0
      },
      "text/plain": [
       "  0%|          | 0/4 [00:00<?, ?it/s]"
      ]
     },
     "metadata": {},
     "output_type": "display_data"
    },
    {
     "data": {
      "image/png": "[encoded data removed]",
      "text/plain": [
       "<Figure size 800x800 with 4 Axes>"
      ]
     },
     "metadata": {},
     "output_type": "display_data"
    }
   ],
   "source": [
    "import PIL\n",
    "import PIL.Image\n",
    "\n",
    "images = [f for f in glob.glob('./trained/csgo/spawn/*/*') if f.endswith('.png')]\n",
    "show_gridsq([PIL.Image.open(img) for img in images], factor=4.)"
   ]
  },
  {
   "cell_type": "code",
   "execution_count": 15,
   "id": "81ec10d0-1f00-4ec7-8f75-222ae8374c9d",
   "metadata": {
    "execution": {
     "iopub.execute_input": "2024-12-20T16:26:31.359336Z",
     "iopub.status.busy": "2024-12-20T16:26:31.358760Z",
     "iopub.status.idle": "2024-12-20T22:27:00.933126Z",
     "shell.execute_reply": "2024-12-20T22:27:00.902169Z",
     "shell.execute_reply.started": "2024-12-20T16:26:31.359305Z"
    }
   },
   "outputs": [
    {
     "name": "stderr",
     "output_type": "stream",
     "text": [
      "<frozen importlib._bootstrap>:241: RuntimeWarning: Your system is avx2 capable but pygame was not built with support for it. The performance of some of your blits could be adversely affected. Consider enabling compile time detection with environment variables like PYGAME_DETECT_AVX2=1 if you are compiling without cross compilation.\n"
     ]
    },
    {
     "name": "stdout",
     "output_type": "stream",
     "text": [
      "{'wandb': {'mode': 'online', 'project': 'yume-nikki', 'entity': 'dweam', 'name': 'yn-0041', 'group': None, 'tags': None, 'notes': None}, 'initialization': {'path_to_ckpt': None, 'load_denoiser': True, 'load_rew_end_model': True, 'load_actor_critic': True}, 'common': {'devices': 'all', 'seed': None, 'resume': False}, 'checkpointing': {'save_agent_every': 5, 'num_to_keep': 11}, 'collection': {'train': {'num_envs': 1, 'epsilon': 0.01, 'num_steps_total': 100000, 'first_epoch': {'min': 5000, 'max': 10000, 'threshold_rew': 10}, 'steps_per_epoch': 100}, 'test': {'num_envs': 1, 'num_episodes': 4, 'epsilon': 0.0, 'num_final_episodes': 100}}, 'static_dataset': {'path': '${env.path_data_low_res}', 'ignore_sample_weights': True}, 'training': {'should': True, 'num_final_epochs': 1500, 'cache_in_ram': False, 'num_workers_data_loaders': 4, 'model_free': False, 'compile_wm': False}, 'evaluation': {'should': True, 'every': 20}, 'denoiser': {'training': {'num_autoregressive_steps': 4, 'start_after_epochs': 0, 'steps_first_epoch': 100, 'steps_per_epoch': 100, 'sample_weights': None, 'batch_size': 14, 'grad_acc_steps': 1, 'lr_warmup_steps': 100, 'max_grad_norm': 10.0}, 'optimizer': {'lr': 0.0001, 'weight_decay': 0.01, 'eps': 1e-08}, 'sigma_distribution': {'_target_': 'models.diffusion.SigmaDistributionConfig', 'loc': -1.2, 'scale': 1.2, 'sigma_min': 0.002, 'sigma_max': 20}}, 'upsampler': {'training': {'num_autoregressive_steps': 1, 'start_after_epochs': 0, 'steps_first_epoch': 400, 'steps_per_epoch': 400, 'sample_weights': None, 'batch_size': 14, 'grad_acc_steps': 1, 'lr_warmup_steps': 100, 'max_grad_norm': 10.0}, 'optimizer': '${denoiser.optimizer}', 'sigma_distribution': '${denoiser.sigma_distribution}'}, 'env': {'train': {'id': 'csgo', 'size': [320, 240]}, 'num_actions': 5, 'path_data_low_res': '/home/mluser/git/dweam/AI-MarioKart64/diamond/yn-processed/low_res', 'path_data_full_res': '/home/mluser/git/dweam/AI-MarioKart64/diamond/yn-processed/full_res', 'keymap': 'csgo'}, 'agent': {'_target_': 'agent.AgentConfig', 'denoiser': {'_target_': 'models.diffusion.DenoiserConfig', 'sigma_data': 0.5, 'sigma_offset_noise': 0.1, 'noise_previous_obs': True, 'upsampling_factor': None, 'inner_model': {'_target_': 'models.diffusion.InnerModelConfig', 'img_channels': 3, 'num_steps_conditioning': 4, 'cond_channels': 2048, 'depths': [2, 2, 2, 2], 'channels': [128, 256, 512, 1024], 'attn_depths': [0, 0, 1, 1]}}, 'upsampler': {'_target_': 'models.diffusion.DenoiserConfig', 'sigma_data': 0.5, 'sigma_offset_noise': 0.1, 'noise_previous_obs': False, 'upsampling_factor': 5, 'inner_model': {'_target_': 'models.diffusion.InnerModelConfig', 'img_channels': 3, 'num_steps_conditioning': 1, 'cond_channels': 2048, 'depths': [2, 2, 2, 2], 'channels': [64, 64, 128, 256], 'attn_depths': [0, 0, 0, 1]}}, 'rew_end_model': None, 'actor_critic': None}, 'world_model_env': {'_target_': 'envs.WorldModelEnvConfig', 'horizon': 1000, 'num_batches_to_preload': 256, 'diffusion_sampler_next_obs': {'_target_': 'models.diffusion.DiffusionSamplerConfig', 'num_steps_denoising': 1, 'sigma_min': 0.002, 'sigma_max': 5.0, 'rho': 7, 'order': 1, 's_churn': 0.0, 's_tmin': 0.0, 's_tmax': '${eval:\\'float(\"inf\")\\'}', 's_noise': 1.0, 's_cond': 0.005}, 'diffusion_sampler_upsampling': {'_target_': 'models.diffusion.DiffusionSamplerConfig', 'num_steps_denoising': 1, 'sigma_min': 1, 'sigma_max': 5.0, 'rho': 7, 'order': 2, 's_churn': 10.0, 's_tmin': 1, 's_tmax': 5, 's_noise': 0.9, 's_cond': 0}}}\n"
     ]
    },
    {
     "data": {
      "application/vnd.jupyter.widget-view+json": {
       "model_id": "383f42d6dcdc4abea7dff123e132c5c7",
       "version_major": 2,
       "version_minor": 0
      },
      "text/plain": [
       "Fetching 0 files: 0it [00:00, ?it/s]"
      ]
     },
     "metadata": {},
     "output_type": "display_data"
    },
    {
     "name": "stderr",
     "output_type": "stream",
     "text": [
      "/home/mluser/git/dweam/AI-MarioKart64/diamond/outputs/2024-12-17/21-40-57/src/agent.py:66: FutureWarning: You are using `torch.load` with `weights_only=False` (the current default value), which uses the default pickle module implicitly. It is possible to construct malicious pickle data which will execute arbitrary code during unpickling (See https://github.com/pytorch/pytorch/blob/main/SECURITY.md#untrusted-models for more details). In a future release, the default value for `weights_only` will be flipped to `True`. This limits the functions that could be executed during unpickling. Arbitrary objects will no longer be allowed to be loaded via this mode unless they are explicitly allowlisted by the user via `torch.serialization.add_safe_globals`. We recommend you start setting `weights_only=True` for any use case where you don't have full control of the loaded file. Please open an issue on GitHub for any issues related to this experimental feature.\n",
      "  sd = torch.load(Path(path_to_ckpt), map_location=self.device)\n"
     ]
    },
    {
     "name": "stdout",
     "output_type": "stream",
     "text": [
      "\n",
      "Environment actions:\n",
      "\n",
      "z : interact\n",
      "up : up\n",
      "right : right\n",
      "left : left\n",
      "down : left\n",
      "\n",
      "Controls:\n",
      "\n",
      " m  : switch control (human/replay)\n",
      " .  : pause/unpause\n",
      " e  : step-by-step (when paused)\n",
      " ⏎  : reset env\n",
      "Esc : quit\n",
      "\n",
      "\n"
     ]
    },
    {
     "name": "stdin",
     "output_type": "stream",
     "text": [
      "Press enter to start \n"
     ]
    },
    {
     "name": "stdout",
     "output_type": "stream",
     "text": [
      "SPAWN DIR ../../../trained/csgo/spawn/0\n",
      "SPAWN DIR ../../../trained/csgo/spawn/0\n",
      "SPAWN DIR ../../../trained/csgo/spawn/0\n",
      "SPAWN DIR ../../../trained/csgo/spawn/0\n",
      "SPAWN DIR ../../../trained/csgo/spawn/0\n",
      "SPAWN DIR ../../../trained/csgo/spawn/0\n",
      "SPAWN DIR ../../../trained/csgo/spawn/0\n",
      "SPAWN DIR ../../../trained/csgo/spawn/0\n",
      "SPAWN DIR ../../../trained/csgo/spawn/0\n",
      "SPAWN DIR ../../../trained/csgo/spawn/0\n",
      "SPAWN DIR ../../../trained/csgo/spawn/0\n",
      "SPAWN DIR ../../../trained/csgo/spawn/0\n",
      "SPAWN DIR ../../../trained/csgo/spawn/0\n",
      "SPAWN DIR ../../../trained/csgo/spawn/0\n",
      "SPAWN DIR ../../../trained/csgo/spawn/0\n",
      "SPAWN DIR ../../../trained/csgo/spawn/0\n",
      "SPAWN DIR ../../../trained/csgo/spawn/0\n",
      "SPAWN DIR ../../../trained/csgo/spawn/0\n",
      "SPAWN DIR ../../../trained/csgo/spawn/0\n",
      "SPAWN DIR ../../../trained/csgo/spawn/0\n",
      "SPAWN DIR ../../../trained/csgo/spawn/0\n",
      "SPAWN DIR ../../../trained/csgo/spawn/0\n",
      "SPAWN DIR ../../../trained/csgo/spawn/0\n",
      "SPAWN DIR ../../../trained/csgo/spawn/0\n",
      "SPAWN DIR ../../../trained/csgo/spawn/0\n",
      "SPAWN DIR ../../../trained/csgo/spawn/0\n",
      "SPAWN DIR ../../../trained/csgo/spawn/0\n",
      "SPAWN DIR ../../../trained/csgo/spawn/0\n",
      "SPAWN DIR ../../../trained/csgo/spawn/0\n",
      "SPAWN DIR ../../../trained/csgo/spawn/0\n",
      "SPAWN DIR ../../../trained/csgo/spawn/0\n",
      "SPAWN DIR ../../../trained/csgo/spawn/0\n",
      "SPAWN DIR ../../../trained/csgo/spawn/0\n",
      "SPAWN DIR ../../../trained/csgo/spawn/0\n",
      "SPAWN DIR ../../../trained/csgo/spawn/0\n",
      "SPAWN DIR ../../../trained/csgo/spawn/0\n",
      "SPAWN DIR ../../../trained/csgo/spawn/0\n",
      "SPAWN DIR ../../../trained/csgo/spawn/0\n",
      "SPAWN DIR ../../../trained/csgo/spawn/0\n",
      "SPAWN DIR ../../../trained/csgo/spawn/0\n",
      "SPAWN DIR ../../../trained/csgo/spawn/0\n",
      "SPAWN DIR ../../../trained/csgo/spawn/0\n",
      "SPAWN DIR ../../../trained/csgo/spawn/0\n",
      "SPAWN DIR ../../../trained/csgo/spawn/0\n",
      "SPAWN DIR ../../../trained/csgo/spawn/0\n",
      "SPAWN DIR ../../../trained/csgo/spawn/0\n",
      "SPAWN DIR ../../../trained/csgo/spawn/0\n",
      "SPAWN DIR ../../../trained/csgo/spawn/0\n",
      "SPAWN DIR ../../../trained/csgo/spawn/0\n",
      "SPAWN DIR ../../../trained/csgo/spawn/0\n",
      "SPAWN DIR ../../../trained/csgo/spawn/0\n",
      "SPAWN DIR ../../../trained/csgo/spawn/0\n",
      "SPAWN DIR ../../../trained/csgo/spawn/0\n",
      "SPAWN DIR ../../../trained/csgo/spawn/0\n",
      "SPAWN DIR ../../../trained/csgo/spawn/0\n",
      "SPAWN DIR ../../../trained/csgo/spawn/0\n",
      "SPAWN DIR ../../../trained/csgo/spawn/0\n",
      "SPAWN DIR ../../../trained/csgo/spawn/0\n",
      "SPAWN DIR ../../../trained/csgo/spawn/0\n",
      "SPAWN DIR ../../../trained/csgo/spawn/0\n",
      "SPAWN DIR ../../../trained/csgo/spawn/0\n",
      "SPAWN DIR ../../../trained/csgo/spawn/0\n",
      "SPAWN DIR ../../../trained/csgo/spawn/0\n",
      "SPAWN DIR ../../../trained/csgo/spawn/0\n",
      "SPAWN DIR ../../../trained/csgo/spawn/0\n",
      "SPAWN DIR ../../../trained/csgo/spawn/0\n",
      "SPAWN DIR ../../../trained/csgo/spawn/0\n",
      "SPAWN DIR ../../../trained/csgo/spawn/0\n",
      "SPAWN DIR ../../../trained/csgo/spawn/0\n",
      "SPAWN DIR ../../../trained/csgo/spawn/0\n",
      "SPAWN DIR ../../../trained/csgo/spawn/0\n",
      "SPAWN DIR ../../../trained/csgo/spawn/0\n",
      "SPAWN DIR ../../../trained/csgo/spawn/0\n",
      "SPAWN DIR ../../../trained/csgo/spawn/0\n",
      "SPAWN DIR ../../../trained/csgo/spawn/0\n",
      "SPAWN DIR ../../../trained/csgo/spawn/0\n",
      "SPAWN DIR ../../../trained/csgo/spawn/0\n",
      "SPAWN DIR ../../../trained/csgo/spawn/0\n",
      "SPAWN DIR ../../../trained/csgo/spawn/0\n",
      "SPAWN DIR ../../../trained/csgo/spawn/0\n",
      "SPAWN DIR ../../../trained/csgo/spawn/0\n",
      "SPAWN DIR ../../../trained/csgo/spawn/0\n",
      "SPAWN DIR ../../../trained/csgo/spawn/0\n",
      "SPAWN DIR ../../../trained/csgo/spawn/0\n",
      "SPAWN DIR ../../../trained/csgo/spawn/0\n",
      "SPAWN DIR ../../../trained/csgo/spawn/0\n",
      "SPAWN DIR ../../../trained/csgo/spawn/0\n",
      "SPAWN DIR ../../../trained/csgo/spawn/0\n",
      "SPAWN DIR ../../../trained/csgo/spawn/0\n",
      "SPAWN DIR ../../../trained/csgo/spawn/0\n",
      "SPAWN DIR ../../../trained/csgo/spawn/0\n",
      "SPAWN DIR ../../../trained/csgo/spawn/0\n",
      "SPAWN DIR ../../../trained/csgo/spawn/0\n",
      "SPAWN DIR ../../../trained/csgo/spawn/0\n",
      "SPAWN DIR ../../../trained/csgo/spawn/0\n",
      "SPAWN DIR ../../../trained/csgo/spawn/0\n",
      "SPAWN DIR ../../../trained/csgo/spawn/0\n",
      "SPAWN DIR ../../../trained/csgo/spawn/0\n",
      "SPAWN DIR ../../../trained/csgo/spawn/0\n",
      "SPAWN DIR ../../../trained/csgo/spawn/0\n",
      "SPAWN DIR ../../../trained/csgo/spawn/0\n",
      "SPAWN DIR ../../../trained/csgo/spawn/0\n",
      "SPAWN DIR ../../../trained/csgo/spawn/0\n",
      "SPAWN DIR ../../../trained/csgo/spawn/0\n",
      "SPAWN DIR ../../../trained/csgo/spawn/0\n",
      "SPAWN DIR ../../../trained/csgo/spawn/0\n",
      "SPAWN DIR ../../../trained/csgo/spawn/0\n",
      "SPAWN DIR ../../../trained/csgo/spawn/0\n",
      "SPAWN DIR ../../../trained/csgo/spawn/0\n",
      "SPAWN DIR ../../../trained/csgo/spawn/0\n",
      "SPAWN DIR ../../../trained/csgo/spawn/0\n",
      "SPAWN DIR ../../../trained/csgo/spawn/0\n",
      "SPAWN DIR ../../../trained/csgo/spawn/0\n",
      "SPAWN DIR ../../../trained/csgo/spawn/0\n",
      "SPAWN DIR ../../../trained/csgo/spawn/0\n",
      "SPAWN DIR ../../../trained/csgo/spawn/0\n",
      "SPAWN DIR ../../../trained/csgo/spawn/0\n",
      "SPAWN DIR ../../../trained/csgo/spawn/0\n",
      "SPAWN DIR ../../../trained/csgo/spawn/0\n",
      "SPAWN DIR ../../../trained/csgo/spawn/0\n",
      "SPAWN DIR ../../../trained/csgo/spawn/0\n",
      "SPAWN DIR ../../../trained/csgo/spawn/0\n",
      "SPAWN DIR ../../../trained/csgo/spawn/0\n",
      "SPAWN DIR ../../../trained/csgo/spawn/0\n",
      "SPAWN DIR ../../../trained/csgo/spawn/0\n",
      "SPAWN DIR ../../../trained/csgo/spawn/0\n",
      "SPAWN DIR ../../../trained/csgo/spawn/0\n",
      "SPAWN DIR ../../../trained/csgo/spawn/0\n",
      "SPAWN DIR ../../../trained/csgo/spawn/0\n",
      "SPAWN DIR ../../../trained/csgo/spawn/0\n",
      "SPAWN DIR ../../../trained/csgo/spawn/0\n",
      "SPAWN DIR ../../../trained/csgo/spawn/0\n",
      "SPAWN DIR ../../../trained/csgo/spawn/0\n",
      "SPAWN DIR ../../../trained/csgo/spawn/0\n",
      "SPAWN DIR ../../../trained/csgo/spawn/0\n",
      "SPAWN DIR ../../../trained/csgo/spawn/0\n",
      "SPAWN DIR ../../../trained/csgo/spawn/0\n",
      "SPAWN DIR ../../../trained/csgo/spawn/0\n",
      "SPAWN DIR ../../../trained/csgo/spawn/0\n",
      "SPAWN DIR ../../../trained/csgo/spawn/0\n",
      "SPAWN DIR ../../../trained/csgo/spawn/0\n",
      "SPAWN DIR ../../../trained/csgo/spawn/0\n",
      "SPAWN DIR ../../../trained/csgo/spawn/0\n",
      "SPAWN DIR ../../../trained/csgo/spawn/0\n",
      "SPAWN DIR ../../../trained/csgo/spawn/0\n",
      "SPAWN DIR ../../../trained/csgo/spawn/0\n",
      "SPAWN DIR ../../../trained/csgo/spawn/0\n",
      "SPAWN DIR ../../../trained/csgo/spawn/0\n",
      "SPAWN DIR ../../../trained/csgo/spawn/0\n",
      "SPAWN DIR ../../../trained/csgo/spawn/0\n",
      "SPAWN DIR ../../../trained/csgo/spawn/0\n",
      "SPAWN DIR ../../../trained/csgo/spawn/0\n",
      "SPAWN DIR ../../../trained/csgo/spawn/0\n",
      "SPAWN DIR ../../../trained/csgo/spawn/0\n",
      "SPAWN DIR ../../../trained/csgo/spawn/0\n",
      "SPAWN DIR ../../../trained/csgo/spawn/0\n",
      "SPAWN DIR ../../../trained/csgo/spawn/0\n",
      "SPAWN DIR ../../../trained/csgo/spawn/0\n",
      "SPAWN DIR ../../../trained/csgo/spawn/0\n",
      "SPAWN DIR ../../../trained/csgo/spawn/0\n",
      "SPAWN DIR ../../../trained/csgo/spawn/0\n",
      "SPAWN DIR ../../../trained/csgo/spawn/0\n"
     ]
    },
    {
     "ename": "KeyboardInterrupt",
     "evalue": "",
     "output_type": "error",
     "traceback": [
      "\u001b[0;31m---------------------------------------------------------------------------\u001b[0m",
      "\u001b[0;31mKeyboardInterrupt\u001b[0m                         Traceback (most recent call last)",
      "File \u001b[0;32m~/git/dweam/AI-MarioKart64/diamond/outputs/2024-12-17/21-40-57/src/play.py:115\u001b[0m\n\u001b[1;32m    110\u001b[0m     game\u001b[38;5;241m.\u001b[39mrun()\n\u001b[1;32m    113\u001b[0m \u001b[38;5;28;01mif\u001b[39;00m \u001b[38;5;18m__name__\u001b[39m \u001b[38;5;241m==\u001b[39m \u001b[38;5;124m\"\u001b[39m\u001b[38;5;124m__main__\u001b[39m\u001b[38;5;124m\"\u001b[39m:\n\u001b[0;32m--> 115\u001b[0m     \u001b[43mmain\u001b[49m\u001b[43m(\u001b[49m\u001b[43m)\u001b[49m\n",
      "File \u001b[0;32m~/.miniconda3/envs/dweam/lib/python3.11/site-packages/torch/utils/_contextlib.py:116\u001b[0m, in \u001b[0;36mcontext_decorator.<locals>.decorate_context\u001b[0;34m(*args, **kwargs)\u001b[0m\n\u001b[1;32m    113\u001b[0m \u001b[38;5;129m@functools\u001b[39m\u001b[38;5;241m.\u001b[39mwraps(func)\n\u001b[1;32m    114\u001b[0m \u001b[38;5;28;01mdef\u001b[39;00m \u001b[38;5;21mdecorate_context\u001b[39m(\u001b[38;5;241m*\u001b[39margs, \u001b[38;5;241m*\u001b[39m\u001b[38;5;241m*\u001b[39mkwargs):\n\u001b[1;32m    115\u001b[0m     \u001b[38;5;28;01mwith\u001b[39;00m ctx_factory():\n\u001b[0;32m--> 116\u001b[0m         \u001b[38;5;28;01mreturn\u001b[39;00m \u001b[43mfunc\u001b[49m\u001b[43m(\u001b[49m\u001b[38;5;241;43m*\u001b[39;49m\u001b[43margs\u001b[49m\u001b[43m,\u001b[49m\u001b[43m \u001b[49m\u001b[38;5;241;43m*\u001b[39;49m\u001b[38;5;241;43m*\u001b[39;49m\u001b[43mkwargs\u001b[49m\u001b[43m)\u001b[49m\n",
      "File \u001b[0;32m~/git/dweam/AI-MarioKart64/diamond/outputs/2024-12-17/21-40-57/src/play.py:110\u001b[0m, in \u001b[0;36mmain\u001b[0;34m()\u001b[0m\n\u001b[1;32m    107\u001b[0m env \u001b[38;5;241m=\u001b[39m prepare_play_mode(cfg, args)\n\u001b[1;32m    109\u001b[0m game \u001b[38;5;241m=\u001b[39m Game(env, (size_h, size_w), args\u001b[38;5;241m.\u001b[39mmouse_multiplier, fps\u001b[38;5;241m=\u001b[39margs\u001b[38;5;241m.\u001b[39mfps, verbose\u001b[38;5;241m=\u001b[39m\u001b[38;5;129;01mnot\u001b[39;00m args\u001b[38;5;241m.\u001b[39mno_header, use_colab\u001b[38;5;241m=\u001b[39margs\u001b[38;5;241m.\u001b[39mcolab)\n\u001b[0;32m--> 110\u001b[0m \u001b[43mgame\u001b[49m\u001b[38;5;241;43m.\u001b[39;49m\u001b[43mrun\u001b[49m\u001b[43m(\u001b[49m\u001b[43m)\u001b[49m\n",
      "File \u001b[0;32m~/git/dweam/AI-MarioKart64/diamond/outputs/2024-12-17/21-40-57/src/game/game.py:183\u001b[0m, in \u001b[0;36mGame.run\u001b[0;34m(self)\u001b[0m\n\u001b[1;32m    180\u001b[0m \tsteering_value \u001b[38;5;241m=\u001b[39m \u001b[38;5;241m1.0\u001b[39m\n\u001b[1;32m    182\u001b[0m csgo_action \u001b[38;5;241m=\u001b[39m CSGOAction(keys_pressed, steering_value)\n\u001b[0;32m--> 183\u001b[0m next_obs, rew, end, trunc, info \u001b[38;5;241m=\u001b[39m \u001b[38;5;28;43mself\u001b[39;49m\u001b[38;5;241;43m.\u001b[39;49m\u001b[43menv\u001b[49m\u001b[38;5;241;43m.\u001b[39;49m\u001b[43mstep\u001b[49m\u001b[43m(\u001b[49m\u001b[43mcsgo_action\u001b[49m\u001b[43m)\u001b[49m\n\u001b[1;32m    185\u001b[0m ep_return \u001b[38;5;241m+\u001b[39m\u001b[38;5;241m=\u001b[39m rew\u001b[38;5;241m.\u001b[39mitem()\n\u001b[1;32m    186\u001b[0m ep_length \u001b[38;5;241m+\u001b[39m\u001b[38;5;241m=\u001b[39m \u001b[38;5;241m1\u001b[39m\n",
      "File \u001b[0;32m~/.miniconda3/envs/dweam/lib/python3.11/site-packages/torch/utils/_contextlib.py:116\u001b[0m, in \u001b[0;36mcontext_decorator.<locals>.decorate_context\u001b[0;34m(*args, **kwargs)\u001b[0m\n\u001b[1;32m    113\u001b[0m \u001b[38;5;129m@functools\u001b[39m\u001b[38;5;241m.\u001b[39mwraps(func)\n\u001b[1;32m    114\u001b[0m \u001b[38;5;28;01mdef\u001b[39;00m \u001b[38;5;21mdecorate_context\u001b[39m(\u001b[38;5;241m*\u001b[39margs, \u001b[38;5;241m*\u001b[39m\u001b[38;5;241m*\u001b[39mkwargs):\n\u001b[1;32m    115\u001b[0m     \u001b[38;5;28;01mwith\u001b[39;00m ctx_factory():\n\u001b[0;32m--> 116\u001b[0m         \u001b[38;5;28;01mreturn\u001b[39;00m \u001b[43mfunc\u001b[49m\u001b[43m(\u001b[49m\u001b[38;5;241;43m*\u001b[39;49m\u001b[43margs\u001b[49m\u001b[43m,\u001b[49m\u001b[43m \u001b[49m\u001b[38;5;241;43m*\u001b[39;49m\u001b[38;5;241;43m*\u001b[39;49m\u001b[43mkwargs\u001b[49m\u001b[43m)\u001b[49m\n",
      "File \u001b[0;32m~/git/dweam/AI-MarioKart64/diamond/outputs/2024-12-17/21-40-57/src/game/play_env.py:103\u001b[0m, in \u001b[0;36mPlayEnv.step\u001b[0;34m(self, csgo_action)\u001b[0m\n\u001b[1;32m    101\u001b[0m \taction \u001b[38;5;241m=\u001b[39m \u001b[38;5;28mself\u001b[39m\u001b[38;5;241m.\u001b[39menv\u001b[38;5;241m.\u001b[39mnext_act[\u001b[38;5;28mself\u001b[39m\u001b[38;5;241m.\u001b[39mt \u001b[38;5;241m-\u001b[39m \u001b[38;5;241m1\u001b[39m] \u001b[38;5;28;01mif\u001b[39;00m \u001b[38;5;28mself\u001b[39m\u001b[38;5;241m.\u001b[39mt \u001b[38;5;241m>\u001b[39m \u001b[38;5;241m0\u001b[39m \u001b[38;5;28;01melse\u001b[39;00m \u001b[38;5;28mself\u001b[39m\u001b[38;5;241m.\u001b[39menv\u001b[38;5;241m.\u001b[39mact_buffer[\u001b[38;5;241m0\u001b[39m, \u001b[38;5;241m-\u001b[39m\u001b[38;5;241m1\u001b[39m]\u001b[38;5;241m.\u001b[39mclone()\n\u001b[1;32m    102\u001b[0m \tcsgo_action \u001b[38;5;241m=\u001b[39m decode_csgo_action(action\u001b[38;5;241m.\u001b[39mcpu())\n\u001b[0;32m--> 103\u001b[0m next_obs, rew, end, trunc, env_info \u001b[38;5;241m=\u001b[39m \u001b[38;5;28;43mself\u001b[39;49m\u001b[38;5;241;43m.\u001b[39;49m\u001b[43menv\u001b[49m\u001b[38;5;241;43m.\u001b[39;49m\u001b[43mstep\u001b[49m\u001b[43m(\u001b[49m\u001b[43maction\u001b[49m\u001b[43m)\u001b[49m\n\u001b[1;32m    105\u001b[0m \u001b[38;5;28;01mif\u001b[39;00m \u001b[38;5;129;01mnot\u001b[39;00m \u001b[38;5;28mself\u001b[39m\u001b[38;5;241m.\u001b[39mis_human_player \u001b[38;5;129;01mand\u001b[39;00m \u001b[38;5;28mself\u001b[39m\u001b[38;5;241m.\u001b[39mt \u001b[38;5;241m==\u001b[39m \u001b[38;5;28mself\u001b[39m\u001b[38;5;241m.\u001b[39menv\u001b[38;5;241m.\u001b[39mnext_act\u001b[38;5;241m.\u001b[39msize(\u001b[38;5;241m0\u001b[39m):\n\u001b[1;32m    106\u001b[0m \ttrunc[\u001b[38;5;241m0\u001b[39m] \u001b[38;5;241m=\u001b[39m \u001b[38;5;241m1\u001b[39m\n",
      "File \u001b[0;32m~/.miniconda3/envs/dweam/lib/python3.11/site-packages/torch/utils/_contextlib.py:116\u001b[0m, in \u001b[0;36mcontext_decorator.<locals>.decorate_context\u001b[0;34m(*args, **kwargs)\u001b[0m\n\u001b[1;32m    113\u001b[0m \u001b[38;5;129m@functools\u001b[39m\u001b[38;5;241m.\u001b[39mwraps(func)\n\u001b[1;32m    114\u001b[0m \u001b[38;5;28;01mdef\u001b[39;00m \u001b[38;5;21mdecorate_context\u001b[39m(\u001b[38;5;241m*\u001b[39margs, \u001b[38;5;241m*\u001b[39m\u001b[38;5;241m*\u001b[39mkwargs):\n\u001b[1;32m    115\u001b[0m     \u001b[38;5;28;01mwith\u001b[39;00m ctx_factory():\n\u001b[0;32m--> 116\u001b[0m         \u001b[38;5;28;01mreturn\u001b[39;00m \u001b[43mfunc\u001b[49m\u001b[43m(\u001b[49m\u001b[38;5;241;43m*\u001b[39;49m\u001b[43margs\u001b[49m\u001b[43m,\u001b[49m\u001b[43m \u001b[49m\u001b[38;5;241;43m*\u001b[39;49m\u001b[38;5;241;43m*\u001b[39;49m\u001b[43mkwargs\u001b[49m\u001b[43m)\u001b[49m\n",
      "File \u001b[0;32m~/git/dweam/AI-MarioKart64/diamond/outputs/2024-12-17/21-40-57/src/envs/world_model_env.py:77\u001b[0m, in \u001b[0;36mWorldModelEnv.step\u001b[0;34m(self, act)\u001b[0m\n\u001b[1;32m     74\u001b[0m next_obs, denoising_trajectory \u001b[38;5;241m=\u001b[39m \u001b[38;5;28mself\u001b[39m\u001b[38;5;241m.\u001b[39mpredict_next_obs()\n\u001b[1;32m     76\u001b[0m \u001b[38;5;28;01mif\u001b[39;00m \u001b[38;5;28mself\u001b[39m\u001b[38;5;241m.\u001b[39msampler_upsampling \u001b[38;5;129;01mis\u001b[39;00m \u001b[38;5;129;01mnot\u001b[39;00m \u001b[38;5;28;01mNone\u001b[39;00m:\n\u001b[0;32m---> 77\u001b[0m     next_obs_full, denoising_trajectory_upsampling \u001b[38;5;241m=\u001b[39m \u001b[38;5;28;43mself\u001b[39;49m\u001b[38;5;241;43m.\u001b[39;49m\u001b[43mupsample_next_obs\u001b[49m\u001b[43m(\u001b[49m\u001b[43mnext_obs\u001b[49m\u001b[43m)\u001b[49m\n\u001b[1;32m     79\u001b[0m \u001b[38;5;28;01mif\u001b[39;00m \u001b[38;5;28mself\u001b[39m\u001b[38;5;241m.\u001b[39mrew_end_model \u001b[38;5;129;01mis\u001b[39;00m \u001b[38;5;129;01mnot\u001b[39;00m \u001b[38;5;28;01mNone\u001b[39;00m:\n\u001b[1;32m     80\u001b[0m     rew, end \u001b[38;5;241m=\u001b[39m \u001b[38;5;28mself\u001b[39m\u001b[38;5;241m.\u001b[39mpredict_rew_end(next_obs\u001b[38;5;241m.\u001b[39munsqueeze(\u001b[38;5;241m1\u001b[39m))\n",
      "File \u001b[0;32m~/.miniconda3/envs/dweam/lib/python3.11/site-packages/torch/utils/_contextlib.py:116\u001b[0m, in \u001b[0;36mcontext_decorator.<locals>.decorate_context\u001b[0;34m(*args, **kwargs)\u001b[0m\n\u001b[1;32m    113\u001b[0m \u001b[38;5;129m@functools\u001b[39m\u001b[38;5;241m.\u001b[39mwraps(func)\n\u001b[1;32m    114\u001b[0m \u001b[38;5;28;01mdef\u001b[39;00m \u001b[38;5;21mdecorate_context\u001b[39m(\u001b[38;5;241m*\u001b[39margs, \u001b[38;5;241m*\u001b[39m\u001b[38;5;241m*\u001b[39mkwargs):\n\u001b[1;32m    115\u001b[0m     \u001b[38;5;28;01mwith\u001b[39;00m ctx_factory():\n\u001b[0;32m--> 116\u001b[0m         \u001b[38;5;28;01mreturn\u001b[39;00m \u001b[43mfunc\u001b[49m\u001b[43m(\u001b[49m\u001b[38;5;241;43m*\u001b[39;49m\u001b[43margs\u001b[49m\u001b[43m,\u001b[49m\u001b[43m \u001b[49m\u001b[38;5;241;43m*\u001b[39;49m\u001b[38;5;241;43m*\u001b[39;49m\u001b[43mkwargs\u001b[49m\u001b[43m)\u001b[49m\n",
      "File \u001b[0;32m~/git/dweam/AI-MarioKart64/diamond/outputs/2024-12-17/21-40-57/src/envs/world_model_env.py:115\u001b[0m, in \u001b[0;36mWorldModelEnv.upsample_next_obs\u001b[0;34m(self, next_obs)\u001b[0m\n\u001b[1;32m    112\u001b[0m \u001b[38;5;129m@torch\u001b[39m\u001b[38;5;241m.\u001b[39mno_grad()\n\u001b[1;32m    113\u001b[0m \u001b[38;5;28;01mdef\u001b[39;00m \u001b[38;5;21mupsample_next_obs\u001b[39m(\u001b[38;5;28mself\u001b[39m, next_obs: Tensor) \u001b[38;5;241m-\u001b[39m\u001b[38;5;241m>\u001b[39m Tuple[Tensor, List[Tensor]]:\n\u001b[1;32m    114\u001b[0m     low_res \u001b[38;5;241m=\u001b[39m F\u001b[38;5;241m.\u001b[39minterpolate(next_obs, scale_factor\u001b[38;5;241m=\u001b[39m\u001b[38;5;28mself\u001b[39m\u001b[38;5;241m.\u001b[39msampler_upsampling\u001b[38;5;241m.\u001b[39mdenoiser\u001b[38;5;241m.\u001b[39mcfg\u001b[38;5;241m.\u001b[39mupsampling_factor, mode\u001b[38;5;241m=\u001b[39m\u001b[38;5;124m\"\u001b[39m\u001b[38;5;124mbicubic\u001b[39m\u001b[38;5;124m\"\u001b[39m)\u001b[38;5;241m.\u001b[39munsqueeze(\u001b[38;5;241m1\u001b[39m)\n\u001b[0;32m--> 115\u001b[0m     \u001b[38;5;28;01mreturn\u001b[39;00m \u001b[38;5;28;43mself\u001b[39;49m\u001b[38;5;241;43m.\u001b[39;49m\u001b[43msampler_upsampling\u001b[49m\u001b[38;5;241;43m.\u001b[39;49m\u001b[43msample\u001b[49m\u001b[43m(\u001b[49m\u001b[43mtorch\u001b[49m\u001b[38;5;241;43m.\u001b[39;49m\u001b[43mcat\u001b[49m\u001b[43m(\u001b[49m\u001b[43m(\u001b[49m\u001b[38;5;28;43mself\u001b[39;49m\u001b[38;5;241;43m.\u001b[39;49m\u001b[43mobs_full_res_buffer\u001b[49m\u001b[43m[\u001b[49m\u001b[43m:\u001b[49m\u001b[43m,\u001b[49m\u001b[43m \u001b[49m\u001b[38;5;28;43mself\u001b[39;49m\u001b[38;5;241;43m.\u001b[39;49m\u001b[43mn_skip_upsampling\u001b[49m\u001b[43m:\u001b[49m\u001b[43m]\u001b[49m\u001b[43m,\u001b[49m\u001b[43m \u001b[49m\u001b[43mlow_res\u001b[49m\u001b[43m)\u001b[49m\u001b[43m,\u001b[49m\u001b[43m \u001b[49m\u001b[43mdim\u001b[49m\u001b[38;5;241;43m=\u001b[39;49m\u001b[38;5;241;43m1\u001b[39;49m\u001b[43m)\u001b[49m\u001b[43m,\u001b[49m\u001b[43m \u001b[49m\u001b[38;5;28;43;01mNone\u001b[39;49;00m\u001b[43m)\u001b[49m\n",
      "File \u001b[0;32m~/.miniconda3/envs/dweam/lib/python3.11/site-packages/torch/utils/_contextlib.py:116\u001b[0m, in \u001b[0;36mcontext_decorator.<locals>.decorate_context\u001b[0;34m(*args, **kwargs)\u001b[0m\n\u001b[1;32m    113\u001b[0m \u001b[38;5;129m@functools\u001b[39m\u001b[38;5;241m.\u001b[39mwraps(func)\n\u001b[1;32m    114\u001b[0m \u001b[38;5;28;01mdef\u001b[39;00m \u001b[38;5;21mdecorate_context\u001b[39m(\u001b[38;5;241m*\u001b[39margs, \u001b[38;5;241m*\u001b[39m\u001b[38;5;241m*\u001b[39mkwargs):\n\u001b[1;32m    115\u001b[0m     \u001b[38;5;28;01mwith\u001b[39;00m ctx_factory():\n\u001b[0;32m--> 116\u001b[0m         \u001b[38;5;28;01mreturn\u001b[39;00m \u001b[43mfunc\u001b[49m\u001b[43m(\u001b[49m\u001b[38;5;241;43m*\u001b[39;49m\u001b[43margs\u001b[49m\u001b[43m,\u001b[49m\u001b[43m \u001b[49m\u001b[38;5;241;43m*\u001b[39;49m\u001b[38;5;241;43m*\u001b[39;49m\u001b[43mkwargs\u001b[49m\u001b[43m)\u001b[49m\n",
      "File \u001b[0;32m~/git/dweam/AI-MarioKart64/diamond/outputs/2024-12-17/21-40-57/src/models/diffusion/diffusion_sampler.py:63\u001b[0m, in \u001b[0;36mDiffusionSampler.sample\u001b[0;34m(self, prev_obs, prev_act)\u001b[0m\n\u001b[1;32m     61\u001b[0m         d_prime \u001b[38;5;241m=\u001b[39m (d \u001b[38;5;241m+\u001b[39m d_2) \u001b[38;5;241m/\u001b[39m \u001b[38;5;241m2\u001b[39m\n\u001b[1;32m     62\u001b[0m         x \u001b[38;5;241m=\u001b[39m x \u001b[38;5;241m+\u001b[39m d_prime \u001b[38;5;241m*\u001b[39m dt\n\u001b[0;32m---> 63\u001b[0m     trajectory\u001b[38;5;241m.\u001b[39mappend(x)\n\u001b[1;32m     64\u001b[0m \u001b[38;5;28;01mreturn\u001b[39;00m x, trajectory\n",
      "\u001b[0;31mKeyboardInterrupt\u001b[0m: "
     ]
    }
   ],
   "source": [
    "%matplotlib inline\n",
    "os.chdir('outputs/2024-12-17/21-40-57')\n",
    "%run ./src/play.py --colab"
   ]
  },
  {
   "cell_type": "code",
   "execution_count": null,
   "id": "4f7b361f-5b9f-43fd-8532-4af50e7cda27",
   "metadata": {},
   "outputs": [],
   "source": []
  }
 ],
 "metadata": {
  "kernelspec": {
   "display_name": "dweam",
   "language": "python",
   "name": "dweam"
  },
  "language_info": {
   "codemirror_mode": {
    "name": "ipython",
    "version": 3
   },
   "file_extension": ".py",
   "mimetype": "text/x-python",
   "name": "python",
   "nbconvert_exporter": "python",
   "pygments_lexer": "ipython3",
   "version": "3.11.10"
  },
  "widgets": {
   "application/vnd.jupyter.widget-state+json": {
    "state": {
     "09fec73fe00b48d8a22733b3689f9ec1": {
      "model_module": "@jupyter-widgets/controls",
      "model_module_version": "2.0.0",
      "model_name": "FloatProgressModel",
      "state": {
       "bar_style": "success",
       "layout": "IPY_MODEL_c756af9f677a4b1bb9518f93f02f9195",
       "max": 4,
       "style": "IPY_MODEL_94a9b3b5003f4f17bdfd05a16b4fb736",
       "value": 4
      }
     },
     "2d30e9d9b38d4b19a1f7af0fe3719393": {
      "model_module": "@jupyter-widgets/controls",
      "model_module_version": "2.0.0",
      "model_name": "HBoxModel",
      "state": {
       "children": [
        "IPY_MODEL_ad0500303a554243966e4642c0c21464",
        "IPY_MODEL_561e3cff48d941f392ec62288d7c35fd",
        "IPY_MODEL_948275fea64f4d10aa40dd5a9120bc01"
       ],
       "layout": "IPY_MODEL_a77d0e81e72248e994b1a572a2e02f9a"
      }
     },
     "33a37f75e7a1447eae0912b5f77391a0": {
      "model_module": "@jupyter-widgets/controls",
      "model_module_version": "2.0.0",
      "model_name": "HTMLStyleModel",
      "state": {
       "description_width": "",
       "font_size": null,
       "text_color": null
      }
     },
     "3c1731899cbe437caa32df76205f9229": {
      "model_module": "@jupyter-widgets/controls",
      "model_module_version": "2.0.0",
      "model_name": "HTMLStyleModel",
      "state": {
       "description_width": "",
       "font_size": null,
       "text_color": null
      }
     },
     "3e9ef4b030514fd899ae347b049e259d": {
      "model_module": "@jupyter-widgets/controls",
      "model_module_version": "2.0.0",
      "model_name": "ProgressStyleModel",
      "state": {
       "description_width": ""
      }
     },
     "561574ea5e6c41ea9ad92cfd2672595d": {
      "model_module": "@jupyter-widgets/controls",
      "model_module_version": "2.0.0",
      "model_name": "HTMLStyleModel",
      "state": {
       "description_width": "",
       "font_size": null,
       "text_color": null
      }
     },
     "561e3cff48d941f392ec62288d7c35fd": {
      "model_module": "@jupyter-widgets/controls",
      "model_module_version": "2.0.0",
      "model_name": "FloatProgressModel",
      "state": {
       "bar_style": "success",
       "layout": "IPY_MODEL_d804cfe6e4b74a0d846777906f7efcaf",
       "max": 4,
       "style": "IPY_MODEL_3e9ef4b030514fd899ae347b049e259d",
       "value": 4
      }
     },
     "83de2404318d4404ad32d15804345668": {
      "model_module": "@jupyter-widgets/base",
      "model_module_version": "2.0.0",
      "model_name": "LayoutModel",
      "state": {}
     },
     "948275fea64f4d10aa40dd5a9120bc01": {
      "model_module": "@jupyter-widgets/controls",
      "model_module_version": "2.0.0",
      "model_name": "HTMLModel",
      "state": {
       "layout": "IPY_MODEL_da1c7aa1b7114e02ad05f437efd5f530",
       "style": "IPY_MODEL_3c1731899cbe437caa32df76205f9229",
       "value": " 4/4 [00:00&lt;00:00, 250.57it/s]"
      }
     },
     "94a9b3b5003f4f17bdfd05a16b4fb736": {
      "model_module": "@jupyter-widgets/controls",
      "model_module_version": "2.0.0",
      "model_name": "ProgressStyleModel",
      "state": {
       "description_width": ""
      }
     },
     "9dea7e9a19974365bde32181fb32d241": {
      "model_module": "@jupyter-widgets/base",
      "model_module_version": "2.0.0",
      "model_name": "LayoutModel",
      "state": {}
     },
     "a1651c487f9a42089f82d19f07e8b46a": {
      "model_module": "@jupyter-widgets/controls",
      "model_module_version": "2.0.0",
      "model_name": "HTMLModel",
      "state": {
       "layout": "IPY_MODEL_fa634d92a949480695f05a96fb57d867",
       "style": "IPY_MODEL_c153f79a86e9448c945f73f4ef19d423",
       "value": "100%"
      }
     },
     "a77d0e81e72248e994b1a572a2e02f9a": {
      "model_module": "@jupyter-widgets/base",
      "model_module_version": "2.0.0",
      "model_name": "LayoutModel",
      "state": {}
     },
     "ad0500303a554243966e4642c0c21464": {
      "model_module": "@jupyter-widgets/controls",
      "model_module_version": "2.0.0",
      "model_name": "HTMLModel",
      "state": {
       "layout": "IPY_MODEL_ef335b03906942d9be045e96fc4bd8a1",
       "style": "IPY_MODEL_561574ea5e6c41ea9ad92cfd2672595d",
       "value": "100%"
      }
     },
     "c153f79a86e9448c945f73f4ef19d423": {
      "model_module": "@jupyter-widgets/controls",
      "model_module_version": "2.0.0",
      "model_name": "HTMLStyleModel",
      "state": {
       "description_width": "",
       "font_size": null,
       "text_color": null
      }
     },
     "c4945d90d50c4c109c483911af98eeb3": {
      "model_module": "@jupyter-widgets/controls",
      "model_module_version": "2.0.0",
      "model_name": "HTMLModel",
      "state": {
       "layout": "IPY_MODEL_9dea7e9a19974365bde32181fb32d241",
       "style": "IPY_MODEL_33a37f75e7a1447eae0912b5f77391a0",
       "value": " 4/4 [00:00&lt;00:00, 221.35it/s]"
      }
     },
     "c5f76abaed52491e838caeb4679cedcb": {
      "model_module": "@jupyter-widgets/controls",
      "model_module_version": "2.0.0",
      "model_name": "HBoxModel",
      "state": {
       "children": [
        "IPY_MODEL_a1651c487f9a42089f82d19f07e8b46a",
        "IPY_MODEL_09fec73fe00b48d8a22733b3689f9ec1",
        "IPY_MODEL_c4945d90d50c4c109c483911af98eeb3"
       ],
       "layout": "IPY_MODEL_83de2404318d4404ad32d15804345668"
      }
     },
     "c756af9f677a4b1bb9518f93f02f9195": {
      "model_module": "@jupyter-widgets/base",
      "model_module_version": "2.0.0",
      "model_name": "LayoutModel",
      "state": {}
     },
     "d804cfe6e4b74a0d846777906f7efcaf": {
      "model_module": "@jupyter-widgets/base",
      "model_module_version": "2.0.0",
      "model_name": "LayoutModel",
      "state": {}
     },
     "da1c7aa1b7114e02ad05f437efd5f530": {
      "model_module": "@jupyter-widgets/base",
      "model_module_version": "2.0.0",
      "model_name": "LayoutModel",
      "state": {}
     },
     "ef335b03906942d9be045e96fc4bd8a1": {
      "model_module": "@jupyter-widgets/base",
      "model_module_version": "2.0.0",
      "model_name": "LayoutModel",
      "state": {}
     },
     "fa634d92a949480695f05a96fb57d867": {
      "model_module": "@jupyter-widgets/base",
      "model_module_version": "2.0.0",
      "model_name": "LayoutModel",
      "state": {}
     }
    },
    "version_major": 2,
    "version_minor": 0
   }
  }
 },
 "nbformat": 4,
 "nbformat_minor": 5
}
