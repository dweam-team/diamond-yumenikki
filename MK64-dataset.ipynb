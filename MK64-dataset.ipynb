{
 "cells": [
  {
   "cell_type": "code",
   "execution_count": 1,
   "id": "8cc3bc90-9c2b-4a5d-9ac7-dc8255fa8ff5",
   "metadata": {
    "execution": {
     "iopub.execute_input": "2024-12-02T12:33:12.927413Z",
     "iopub.status.busy": "2024-12-02T12:33:12.927231Z",
     "iopub.status.idle": "2024-12-02T12:33:12.934411Z",
     "shell.execute_reply": "2024-12-02T12:33:12.933559Z",
     "shell.execute_reply.started": "2024-12-02T12:33:12.927394Z"
    }
   },
   "outputs": [],
   "source": [
    "import os\n",
    "import sys"
   ]
  },
  {
   "cell_type": "code",
   "execution_count": 2,
   "id": "e56f3f74-b388-437d-928c-261bc0bc9132",
   "metadata": {
    "execution": {
     "iopub.execute_input": "2024-12-02T12:33:12.937354Z",
     "iopub.status.busy": "2024-12-02T12:33:12.936901Z",
     "iopub.status.idle": "2024-12-02T12:33:12.947173Z",
     "shell.execute_reply": "2024-12-02T12:33:12.946046Z",
     "shell.execute_reply.started": "2024-12-02T12:33:12.937307Z"
    }
   },
   "outputs": [],
   "source": [
    "os.environ['CUDA_VISIBLE_DEVICES'] = ''"
   ]
  },
  {
   "cell_type": "code",
   "execution_count": 55,
   "id": "edf5fd2e-fb74-432a-84a6-c60a2714e123",
   "metadata": {
    "execution": {
     "iopub.execute_input": "2024-12-02T12:57:01.503883Z",
     "iopub.status.busy": "2024-12-02T12:57:01.503001Z",
     "iopub.status.idle": "2024-12-02T12:57:01.509475Z",
     "shell.execute_reply": "2024-12-02T12:57:01.508839Z",
     "shell.execute_reply.started": "2024-12-02T12:57:01.503836Z"
    }
   },
   "outputs": [],
   "source": [
    "import shutil\n",
    "import io\n",
    "import random\n",
    "\n",
    "import tqdm.auto as tqdm\n",
    "import h5py\n",
    "import numpy as np\n",
    "import pandas as pd\n",
    "import cv2\n",
    "import PIL\n",
    "import PIL.Image\n",
    "\n",
    "import datasets"
   ]
  },
  {
   "cell_type": "code",
   "execution_count": 4,
   "id": "3e77035d-a62f-4710-9666-4e7c9b017cb9",
   "metadata": {
    "execution": {
     "iopub.execute_input": "2024-12-02T12:33:28.976002Z",
     "iopub.status.busy": "2024-12-02T12:33:28.975521Z",
     "iopub.status.idle": "2024-12-02T12:33:34.446262Z",
     "shell.execute_reply": "2024-12-02T12:33:34.445764Z",
     "shell.execute_reply.started": "2024-12-02T12:33:28.975979Z"
    }
   },
   "outputs": [],
   "source": [
    "ds = datasets.load_dataset(\"DereWah/mk64-steering\")"
   ]
  },
  {
   "cell_type": "code",
   "execution_count": 5,
   "id": "32ed74aa-cdea-4e2a-b8d9-66253670f0c8",
   "metadata": {
    "execution": {
     "iopub.execute_input": "2024-12-02T12:33:34.447902Z",
     "iopub.status.busy": "2024-12-02T12:33:34.447066Z",
     "iopub.status.idle": "2024-12-02T12:33:34.453680Z",
     "shell.execute_reply": "2024-12-02T12:33:34.453041Z",
     "shell.execute_reply.started": "2024-12-02T12:33:34.447862Z"
    }
   },
   "outputs": [
    {
     "data": {
      "text/plain": [
       "datasets.dataset_dict.DatasetDict"
      ]
     },
     "execution_count": 5,
     "metadata": {},
     "output_type": "execute_result"
    }
   ],
   "source": [
    "type(ds)"
   ]
  },
  {
   "cell_type": "code",
   "execution_count": 6,
   "id": "b1d2d70f-5c49-4f77-bb9b-c238ae6e4897",
   "metadata": {
    "execution": {
     "iopub.execute_input": "2024-12-02T12:33:34.454366Z",
     "iopub.status.busy": "2024-12-02T12:33:34.454206Z",
     "iopub.status.idle": "2024-12-02T12:33:34.465257Z",
     "shell.execute_reply": "2024-12-02T12:33:34.464742Z",
     "shell.execute_reply.started": "2024-12-02T12:33:34.454350Z"
    }
   },
   "outputs": [
    {
     "data": {
      "text/plain": [
       "dict_keys(['train'])"
      ]
     },
     "execution_count": 6,
     "metadata": {},
     "output_type": "execute_result"
    }
   ],
   "source": [
    "ds.keys()"
   ]
  },
  {
   "cell_type": "code",
   "execution_count": 7,
   "id": "729cca92-5eb6-437f-a08f-fc5e842a1ceb",
   "metadata": {
    "execution": {
     "iopub.execute_input": "2024-12-02T12:33:34.467609Z",
     "iopub.status.busy": "2024-12-02T12:33:34.467216Z",
     "iopub.status.idle": "2024-12-02T12:33:34.472590Z",
     "shell.execute_reply": "2024-12-02T12:33:34.471806Z",
     "shell.execute_reply.started": "2024-12-02T12:33:34.467589Z"
    }
   },
   "outputs": [
    {
     "data": {
      "text/plain": [
       "(datasets.arrow_dataset.Dataset, 70)"
      ]
     },
     "execution_count": 7,
     "metadata": {},
     "output_type": "execute_result"
    }
   ],
   "source": [
    "ds_train = ds['train']\n",
    "type(ds_train), len(ds_train)"
   ]
  },
  {
   "cell_type": "code",
   "execution_count": 8,
   "id": "d8826bf2-dd2d-4218-98f4-0530c5000a4c",
   "metadata": {
    "execution": {
     "iopub.execute_input": "2024-12-02T12:33:34.473490Z",
     "iopub.status.busy": "2024-12-02T12:33:34.473156Z",
     "iopub.status.idle": "2024-12-02T12:33:34.478976Z",
     "shell.execute_reply": "2024-12-02T12:33:34.478410Z",
     "shell.execute_reply.started": "2024-12-02T12:33:34.473468Z"
    }
   },
   "outputs": [
    {
     "data": {
      "text/plain": [
       "['__key__', '__url__', 'hdf5']"
      ]
     },
     "execution_count": 8,
     "metadata": {},
     "output_type": "execute_result"
    }
   ],
   "source": [
    "ds_train.column_names"
   ]
  },
  {
   "cell_type": "code",
   "execution_count": 9,
   "id": "79807082-a6ec-41bc-bc86-3dcfbeb0563a",
   "metadata": {
    "execution": {
     "iopub.execute_input": "2024-12-02T12:33:34.479742Z",
     "iopub.status.busy": "2024-12-02T12:33:34.479545Z",
     "iopub.status.idle": "2024-12-02T12:33:34.794538Z",
     "shell.execute_reply": "2024-12-02T12:33:34.793850Z",
     "shell.execute_reply.started": "2024-12-02T12:33:34.479722Z"
    }
   },
   "outputs": [],
   "source": [
    "sample = ds_train[0]"
   ]
  },
  {
   "cell_type": "code",
   "execution_count": 10,
   "id": "34760351-4de9-4767-8060-ee898ab95c32",
   "metadata": {
    "execution": {
     "iopub.execute_input": "2024-12-02T12:33:34.797009Z",
     "iopub.status.busy": "2024-12-02T12:33:34.796884Z",
     "iopub.status.idle": "2024-12-02T12:33:34.808920Z",
     "shell.execute_reply": "2024-12-02T12:33:34.807963Z",
     "shell.execute_reply.started": "2024-12-02T12:33:34.796995Z"
    }
   },
   "outputs": [
    {
     "name": "stdout",
     "output_type": "stream",
     "text": [
      "<class 'dict'> dict_keys(['__key__', '__url__', 'hdf5'])\n"
     ]
    },
    {
     "data": {
      "text/plain": [
       "[31, 139, 231348000]"
      ]
     },
     "execution_count": 10,
     "metadata": {},
     "output_type": "execute_result"
    }
   ],
   "source": [
    "print(type(sample), sample.keys())\n",
    "[len(sample[k]) for k in sample.keys()]"
   ]
  },
  {
   "cell_type": "code",
   "execution_count": 11,
   "id": "a9479c00-28ef-4f66-81c2-35872792e760",
   "metadata": {
    "execution": {
     "iopub.execute_input": "2024-12-02T12:33:34.810253Z",
     "iopub.status.busy": "2024-12-02T12:33:34.809858Z",
     "iopub.status.idle": "2024-12-02T12:33:34.815484Z",
     "shell.execute_reply": "2024-12-02T12:33:34.814447Z",
     "shell.execute_reply.started": "2024-12-02T12:33:34.810218Z"
    }
   },
   "outputs": [
    {
     "name": "stdout",
     "output_type": "stream",
     "text": [
      "LR_expert/25-11-2024-11-59-11_1\n"
     ]
    }
   ],
   "source": [
    "print(sample['__key__'])"
   ]
  },
  {
   "cell_type": "code",
   "execution_count": 12,
   "id": "487c252a-de96-4966-b8bf-b51536428ea0",
   "metadata": {
    "execution": {
     "iopub.execute_input": "2024-12-02T12:33:34.816642Z",
     "iopub.status.busy": "2024-12-02T12:33:34.816284Z",
     "iopub.status.idle": "2024-12-02T12:33:34.821753Z",
     "shell.execute_reply": "2024-12-02T12:33:34.821223Z",
     "shell.execute_reply.started": "2024-12-02T12:33:34.816610Z"
    }
   },
   "outputs": [
    {
     "name": "stdout",
     "output_type": "stream",
     "text": [
      "/home/mluser/.cache/huggingface/hub/datasets--DereWah--mk64-steering/snapshots/a8ecd5b3741a2f6a4f68bbdec2e0e47414e2e292/LR/LR_expert.tar.gz\n"
     ]
    }
   ],
   "source": [
    "print(sample['__url__'])"
   ]
  },
  {
   "cell_type": "code",
   "execution_count": 14,
   "id": "5c2281fc-b824-45a0-8d37-8e5b71618483",
   "metadata": {
    "execution": {
     "iopub.execute_input": "2024-12-02T12:33:51.805725Z",
     "iopub.status.busy": "2024-12-02T12:33:51.805519Z",
     "iopub.status.idle": "2024-12-02T12:33:51.809533Z",
     "shell.execute_reply": "2024-12-02T12:33:51.808805Z",
     "shell.execute_reply.started": "2024-12-02T12:33:51.805710Z"
    }
   },
   "outputs": [],
   "source": [
    "hdf = io.BytesIO(sample['hdf5'])"
   ]
  },
  {
   "cell_type": "code",
   "execution_count": 15,
   "id": "e606926e-9b9f-4638-b2c1-6156aeb84ed8",
   "metadata": {
    "execution": {
     "iopub.execute_input": "2024-12-02T12:33:56.884158Z",
     "iopub.status.busy": "2024-12-02T12:33:56.883367Z",
     "iopub.status.idle": "2024-12-02T12:33:56.889734Z",
     "shell.execute_reply": "2024-12-02T12:33:56.889202Z",
     "shell.execute_reply.started": "2024-12-02T12:33:56.884115Z"
    }
   },
   "outputs": [
    {
     "data": {
      "text/plain": [
       "_io.BytesIO"
      ]
     },
     "execution_count": 15,
     "metadata": {},
     "output_type": "execute_result"
    }
   ],
   "source": [
    "type(hdf)"
   ]
  },
  {
   "cell_type": "code",
   "execution_count": 41,
   "id": "66e8c08e-a5a6-446e-934f-faf6c0353420",
   "metadata": {
    "execution": {
     "iopub.execute_input": "2024-12-02T12:41:22.717084Z",
     "iopub.status.busy": "2024-12-02T12:41:22.716625Z",
     "iopub.status.idle": "2024-12-02T12:41:22.724959Z",
     "shell.execute_reply": "2024-12-02T12:41:22.724521Z",
     "shell.execute_reply.started": "2024-12-02T12:41:22.717046Z"
    }
   },
   "outputs": [
    {
     "name": "stdout",
     "output_type": "stream",
     "text": [
      "keys: 2000\n",
      "['frame_0_x', 'frame_0_y', 'frame_100_x', 'frame_100_y', 'frame_101_x', 'frame_101_y', 'frame_102_x', 'frame_102_y', 'frame_103_x', 'frame_103_y']\n"
     ]
    }
   ],
   "source": [
    "with h5py.File(hdf, 'r') as f:\n",
    "    print('keys:', len(f.keys()))\n",
    "    print(list(f.keys())[:10])\n",
    "    x_data, y_data = f['frame_0_x'][:], f['frame_0_y'][:]"
   ]
  },
  {
   "cell_type": "code",
   "execution_count": 34,
   "id": "5e1f59a5-a025-40ab-94fa-d197eb611d9e",
   "metadata": {
    "execution": {
     "iopub.execute_input": "2024-12-02T12:39:52.351806Z",
     "iopub.status.busy": "2024-12-02T12:39:52.351093Z",
     "iopub.status.idle": "2024-12-02T12:39:52.357386Z",
     "shell.execute_reply": "2024-12-02T12:39:52.356523Z",
     "shell.execute_reply.started": "2024-12-02T12:39:52.351770Z"
    }
   },
   "outputs": [
    {
     "data": {
      "text/plain": [
       "((240, 320, 3), dtype('uint8'))"
      ]
     },
     "execution_count": 34,
     "metadata": {},
     "output_type": "execute_result"
    }
   ],
   "source": [
    "x_data.shape, x_data.dtype"
   ]
  },
  {
   "cell_type": "code",
   "execution_count": 39,
   "id": "4c1945c2-d135-4c42-b691-b504545b2298",
   "metadata": {
    "execution": {
     "iopub.execute_input": "2024-12-02T12:40:41.069150Z",
     "iopub.status.busy": "2024-12-02T12:40:41.068108Z",
     "iopub.status.idle": "2024-12-02T12:40:41.081234Z",
     "shell.execute_reply": "2024-12-02T12:40:41.080579Z",
     "shell.execute_reply.started": "2024-12-02T12:40:41.069104Z"
    }
   },
   "outputs": [
    {
     "data": {
      "image/jpeg": "[encoded data removed]",
      "image/png": "[encoded data removed]",
      "text/plain": [
       "<PIL.Image.Image image mode=RGB size=320x240>"
      ]
     },
     "execution_count": 39,
     "metadata": {},
     "output_type": "execute_result"
    }
   ],
   "source": [
    "PIL.Image.fromarray(x_data[:,:,::-1])"
   ]
  },
  {
   "cell_type": "code",
   "execution_count": 38,
   "id": "67917212-9632-4e85-b462-1576f4f9f089",
   "metadata": {
    "execution": {
     "iopub.execute_input": "2024-12-02T12:40:30.265680Z",
     "iopub.status.busy": "2024-12-02T12:40:30.265538Z",
     "iopub.status.idle": "2024-12-02T12:40:30.269828Z",
     "shell.execute_reply": "2024-12-02T12:40:30.269248Z",
     "shell.execute_reply.started": "2024-12-02T12:40:30.265667Z"
    }
   },
   "outputs": [
    {
     "data": {
      "text/plain": [
       "((22,), dtype('int64'))"
      ]
     },
     "execution_count": 38,
     "metadata": {},
     "output_type": "execute_result"
    }
   ],
   "source": [
    "y_data.shape, y_data.dtype"
   ]
  },
  {
   "cell_type": "code",
   "execution_count": 40,
   "id": "98498c0c-96f9-4d8d-b8f1-5ff1eb59fb2d",
   "metadata": {
    "execution": {
     "iopub.execute_input": "2024-12-02T12:41:14.495597Z",
     "iopub.status.busy": "2024-12-02T12:41:14.494679Z",
     "iopub.status.idle": "2024-12-02T12:41:14.522838Z",
     "shell.execute_reply": "2024-12-02T12:41:14.522172Z",
     "shell.execute_reply.started": "2024-12-02T12:41:14.495558Z"
    }
   },
   "outputs": [
    {
     "data": {
      "text/plain": [
       "array([0, 0, 0, 0, 0, 0, 0, 0, 0, 0, 1, 0, 0, 0, 0, 0, 0, 0, 0, 0, 0, 0])"
      ]
     },
     "execution_count": 40,
     "metadata": {},
     "output_type": "execute_result"
    }
   ],
   "source": [
    "y_data"
   ]
  },
  {
   "cell_type": "code",
   "execution_count": 42,
   "id": "55828038-e594-40ce-a166-9fbe3eedd54f",
   "metadata": {
    "execution": {
     "iopub.execute_input": "2024-12-02T12:42:01.156363Z",
     "iopub.status.busy": "2024-12-02T12:42:01.156132Z",
     "iopub.status.idle": "2024-12-02T12:42:01.161292Z",
     "shell.execute_reply": "2024-12-02T12:42:01.160703Z",
     "shell.execute_reply.started": "2024-12-02T12:42:01.156347Z"
    }
   },
   "outputs": [
    {
     "data": {
      "text/plain": [
       "70"
      ]
     },
     "execution_count": 42,
     "metadata": {},
     "output_type": "execute_result"
    }
   ],
   "source": [
    "len(ds_train)"
   ]
  },
  {
   "cell_type": "code",
   "execution_count": 46,
   "id": "a3e6ca34-7653-4fe6-b5c1-eed07b5c2af6",
   "metadata": {
    "execution": {
     "iopub.execute_input": "2024-12-02T12:43:46.228613Z",
     "iopub.status.busy": "2024-12-02T12:43:46.228426Z",
     "iopub.status.idle": "2024-12-02T12:44:07.996773Z",
     "shell.execute_reply": "2024-12-02T12:44:07.996147Z",
     "shell.execute_reply.started": "2024-12-02T12:43:46.228600Z"
    }
   },
   "outputs": [
    {
     "name": "stdout",
     "output_type": "stream",
     "text": [
      "0 key LR_expert/25-11-2024-11-59-11_1 frames 1000\n",
      "1 key LR_expert/25-11-2024-11-59-11_10 frames 1000\n",
      "2 key LR_expert/25-11-2024-11-59-11_11 frames 1000\n",
      "3 key LR_expert/25-11-2024-11-59-11_12 frames 1000\n",
      "4 key LR_expert/25-11-2024-11-59-11_13 frames 1000\n",
      "5 key LR_expert/25-11-2024-11-59-11_14 frames 1000\n",
      "6 key LR_expert/25-11-2024-11-59-11_15 frames 1000\n",
      "7 key LR_expert/25-11-2024-11-59-11_16 frames 1000\n",
      "8 key LR_expert/25-11-2024-11-59-11_17 frames 1000\n",
      "9 key LR_expert/25-11-2024-11-59-11_18 frames 1000\n",
      "10 key LR_expert/25-11-2024-11-59-11_19 frames 1000\n",
      "11 key LR_expert/25-11-2024-11-59-11_2 frames 1000\n",
      "12 key LR_expert/25-11-2024-11-59-11_20 frames 1000\n",
      "13 key LR_expert/25-11-2024-11-59-11_21 frames 1000\n",
      "14 key LR_expert/25-11-2024-11-59-11_22 frames 1000\n",
      "15 key LR_expert/25-11-2024-11-59-11_23 frames 1000\n",
      "16 key LR_expert/25-11-2024-11-59-11_24 frames 1000\n",
      "17 key LR_expert/25-11-2024-11-59-11_25 frames 1000\n",
      "18 key LR_expert/25-11-2024-11-59-11_26 frames 1000\n",
      "19 key LR_expert/25-11-2024-11-59-11_27 frames 1000\n",
      "20 key LR_expert/25-11-2024-11-59-11_28 frames 1000\n",
      "21 key LR_expert/25-11-2024-11-59-11_29 frames 1000\n",
      "22 key LR_expert/25-11-2024-11-59-11_3 frames 1000\n",
      "23 key LR_expert/25-11-2024-11-59-11_30 frames 1000\n",
      "24 key LR_expert/25-11-2024-11-59-11_31 frames 1000\n",
      "25 key LR_expert/25-11-2024-11-59-11_4 frames 1000\n",
      "26 key LR_expert/25-11-2024-11-59-11_5 frames 1000\n",
      "27 key LR_expert/25-11-2024-11-59-11_6 frames 1000\n",
      "28 key LR_expert/25-11-2024-11-59-11_7 frames 1000\n",
      "29 key LR_expert/25-11-2024-11-59-11_8 frames 1000\n",
      "30 key LR_expert/25-11-2024-11-59-11_9 frames 1000\n",
      "31 key LR_noised/25-11-2024-12-59-56_1 frames 1000\n",
      "32 key LR_noised/25-11-2024-12-59-56_10 frames 1000\n",
      "33 key LR_noised/25-11-2024-12-59-56_11 frames 1000\n",
      "34 key LR_noised/25-11-2024-12-59-56_12 frames 1000\n",
      "35 key LR_noised/25-11-2024-12-59-56_13 frames 1000\n",
      "36 key LR_noised/25-11-2024-12-59-56_14 frames 1000\n",
      "37 key LR_noised/25-11-2024-12-59-56_15 frames 1000\n",
      "38 key LR_noised/25-11-2024-12-59-56_16 frames 1000\n",
      "39 key LR_noised/25-11-2024-12-59-56_17 frames 1000\n",
      "40 key LR_noised/25-11-2024-12-59-56_18 frames 1000\n",
      "41 key LR_noised/25-11-2024-12-59-56_19 frames 1000\n",
      "42 key LR_noised/25-11-2024-12-59-56_2 frames 1000\n",
      "43 key LR_noised/25-11-2024-12-59-56_20 frames 1000\n",
      "44 key LR_noised/25-11-2024-12-59-56_21 frames 1000\n",
      "45 key LR_noised/25-11-2024-12-59-56_22 frames 1000\n",
      "46 key LR_noised/25-11-2024-12-59-56_23 frames 1000\n",
      "47 key LR_noised/25-11-2024-12-59-56_24 frames 1000\n",
      "48 key LR_noised/25-11-2024-12-59-56_25 frames 1000\n",
      "49 key LR_noised/25-11-2024-12-59-56_26 frames 1000\n",
      "50 key LR_noised/25-11-2024-12-59-56_27 frames 1000\n",
      "51 key LR_noised/25-11-2024-12-59-56_28 frames 1000\n",
      "52 key LR_noised/25-11-2024-12-59-56_29 frames 1000\n",
      "53 key LR_noised/25-11-2024-12-59-56_3 frames 1000\n",
      "54 key LR_noised/25-11-2024-12-59-56_30 frames 1000\n",
      "55 key LR_noised/25-11-2024-12-59-56_31 frames 1000\n",
      "56 key LR_noised/25-11-2024-12-59-56_32 frames 1000\n",
      "57 key LR_noised/25-11-2024-12-59-56_33 frames 1000\n",
      "58 key LR_noised/25-11-2024-12-59-56_34 frames 1000\n",
      "59 key LR_noised/25-11-2024-12-59-56_35 frames 1000\n",
      "60 key LR_noised/25-11-2024-12-59-56_36 frames 1000\n",
      "61 key LR_noised/25-11-2024-12-59-56_37 frames 1000\n",
      "62 key LR_noised/25-11-2024-12-59-56_38 frames 1000\n",
      "63 key LR_noised/25-11-2024-12-59-56_39 frames 1000\n",
      "64 key LR_noised/25-11-2024-12-59-56_4 frames 1000\n",
      "65 key LR_noised/25-11-2024-12-59-56_5 frames 1000\n",
      "66 key LR_noised/25-11-2024-12-59-56_6 frames 1000\n",
      "67 key LR_noised/25-11-2024-12-59-56_7 frames 1000\n",
      "68 key LR_noised/25-11-2024-12-59-56_8 frames 1000\n",
      "69 key LR_noised/25-11-2024-12-59-56_9 frames 1000\n"
     ]
    }
   ],
   "source": [
    "for i, sample in enumerate(ds_train):\n",
    "    hdf = io.BytesIO(sample['hdf5'])\n",
    "    with h5py.File(hdf, 'r') as f:\n",
    "        frames = len(f.keys()) // 2\n",
    "    print(i, 'key', sample['__key__'], 'frames', frames)"
   ]
  },
  {
   "cell_type": "code",
   "execution_count": 61,
   "id": "494c4874-8bdf-44b0-949b-e34422183bcb",
   "metadata": {
    "execution": {
     "iopub.execute_input": "2024-12-02T13:03:04.847532Z",
     "iopub.status.busy": "2024-12-02T13:03:04.846611Z",
     "iopub.status.idle": "2024-12-02T13:03:06.529596Z",
     "shell.execute_reply": "2024-12-02T13:03:06.528510Z",
     "shell.execute_reply.started": "2024-12-02T13:03:04.847476Z"
    }
   },
   "outputs": [
    {
     "data": {
      "application/vnd.jupyter.widget-view+json": {
       "model_id": "faa23b2c33334530be3138f79a0017e0",
       "version_major": 2,
       "version_minor": 0
      },
      "text/plain": [
       "writing frames:   0%|          | 0/1000 [00:00<?, ?it/s]"
      ]
     },
     "metadata": {},
     "output_type": "display_data"
    },
    {
     "data": {
      "text/plain": [
       "'./tmp-mk64-sample.mp4'"
      ]
     },
     "execution_count": 61,
     "metadata": {},
     "output_type": "execute_result"
    }
   ],
   "source": [
    "sample = random.choice(ds_train)\n",
    "hdf = io.BytesIO(sample['hdf5'])\n",
    "video_name = '/tmp/mk64-sample.mp4'\n",
    "\n",
    "def action_to_label(action):\n",
    "    s = \"\"\n",
    "    turn = np.nonzero(action[:21])[0] - 10\n",
    "    if turn < 0:\n",
    "        s = f\"L {abs(turn)}\"\n",
    "    elif turn > 0:\n",
    "        s = f'R {turn}'\n",
    "    if action[-1]:\n",
    "        s += 'boost'\n",
    "    return s\n",
    "\n",
    "with h5py.File(hdf, 'r') as f:\n",
    "    fourcc = cv2.VideoWriter_fourcc(*'mp4v')\n",
    "    outvideo = cv2.VideoWriter(video_name, fourcc, 24.0, (x_data.shape[1], x_data.shape[0]))\n",
    "    for i in tqdm.trange(1000, desc='writing frames'):\n",
    "        x_key = f'frame_{i}_x'\n",
    "        y_key = f'frame_{i}_y'\n",
    "        if x_key not in f or y_key not in f:\n",
    "            break\n",
    "        cv2_image = f[x_key][:]\n",
    "        action = action_to_label(f[y_key][:].tolist())\n",
    "        cv2.putText(cv2_image, action, (50, 50), cv2.FONT_HERSHEY_SIMPLEX, 1, (255, 255, 255), 2)\n",
    "        outvideo.write(cv2_image)\n",
    "    outvideo.release()\n",
    "\n",
    "shutil.copy(video_name, './tmp-mk64-sample.mp4')"
   ]
  },
  {
   "cell_type": "code",
   "execution_count": 62,
   "id": "f4711c75-5cba-423a-a082-1998dfd56df9",
   "metadata": {
    "execution": {
     "iopub.execute_input": "2024-12-02T13:11:26.665762Z",
     "iopub.status.busy": "2024-12-02T13:11:26.664921Z",
     "iopub.status.idle": "2024-12-02T13:11:26.671716Z",
     "shell.execute_reply": "2024-12-02T13:11:26.670987Z",
     "shell.execute_reply.started": "2024-12-02T13:11:26.665726Z"
    }
   },
   "outputs": [
    {
     "data": {
      "text/html": [
       "<video src=\"./tmp-mk64-sample.mp4\" controls  >\n",
       "      Your browser does not support the <code>video</code> element.\n",
       "    </video>"
      ],
      "text/plain": [
       "<IPython.core.display.Video object>"
      ]
     },
     "execution_count": 62,
     "metadata": {},
     "output_type": "execute_result"
    }
   ],
   "source": [
    "from IPython.display import Video\n",
    "\n",
    "Video('./tmp-mk64-sample.mp4')"
   ]
  },
  {
   "cell_type": "code",
   "execution_count": null,
   "id": "4525e851-3235-4ff8-bff2-5ee6d99faf82",
   "metadata": {},
   "outputs": [],
   "source": []
  }
 ],
 "metadata": {
  "kernelspec": {
   "display_name": "dweam",
   "language": "python",
   "name": "dweam"
  },
  "language_info": {
   "codemirror_mode": {
    "name": "ipython",
    "version": 3
   },
   "file_extension": ".py",
   "mimetype": "text/x-python",
   "name": "python",
   "nbconvert_exporter": "python",
   "pygments_lexer": "ipython3",
   "version": "3.11.10"
  },
  "widgets": {
   "application/vnd.jupyter.widget-state+json": {
    "state": {
     "0b7a2019105746d0a39fe06e4a1483d2": {
      "model_module": "@jupyter-widgets/base",
      "model_module_version": "2.0.0",
      "model_name": "LayoutModel",
      "state": {}
     },
     "12f1af2e7e3d4ae284db39dca74bac89": {
      "model_module": "@jupyter-widgets/base",
      "model_module_version": "2.0.0",
      "model_name": "LayoutModel",
      "state": {}
     },
     "13f22d95e8034e609798aa730659eda9": {
      "model_module": "@jupyter-widgets/controls",
      "model_module_version": "2.0.0",
      "model_name": "HBoxModel",
      "state": {
       "children": [
        "IPY_MODEL_db266223d435450180c08e88c1b3dab0",
        "IPY_MODEL_e8cb07ba8db2414c850109c5ea60f24a",
        "IPY_MODEL_eafc915acf00482eab5b14d5295bf139"
       ],
       "layout": "IPY_MODEL_73953cdd37484857b2e9b1bbc9b14fa0"
      }
     },
     "15113fe88ed1497b97e740d7636d8543": {
      "model_module": "@jupyter-widgets/controls",
      "model_module_version": "2.0.0",
      "model_name": "HTMLStyleModel",
      "state": {
       "description_width": "",
       "font_size": null,
       "text_color": null
      }
     },
     "17bcb6d0ae2b4be488f9aa7433e01110": {
      "model_module": "@jupyter-widgets/base",
      "model_module_version": "2.0.0",
      "model_name": "LayoutModel",
      "state": {}
     },
     "1cd8798722fb40c894db7330efe88741": {
      "model_module": "@jupyter-widgets/controls",
      "model_module_version": "2.0.0",
      "model_name": "HTMLModel",
      "state": {
       "layout": "IPY_MODEL_caf8b23550264333bd98c7ca7cfb06ec",
       "style": "IPY_MODEL_3ed7241f39c14d03942c5e4b4578ad48",
       "value": "writing frames: 100%"
      }
     },
     "1fa5b8e1f2af4e2ab4472d2b872ed675": {
      "model_module": "@jupyter-widgets/base",
      "model_module_version": "2.0.0",
      "model_name": "LayoutModel",
      "state": {}
     },
     "21a69da8a81a419aa263e108a647b7f0": {
      "model_module": "@jupyter-widgets/controls",
      "model_module_version": "2.0.0",
      "model_name": "FloatProgressModel",
      "state": {
       "bar_style": "success",
       "layout": "IPY_MODEL_4de5d520987a454d8aaada9f68599fb7",
       "max": 1000,
       "style": "IPY_MODEL_cc2dbc8bc4274d8a9c03c302c65a6f4d",
       "value": 1000
      }
     },
     "21ab66361448424688a0b90c7276dab4": {
      "model_module": "@jupyter-widgets/base",
      "model_module_version": "2.0.0",
      "model_name": "LayoutModel",
      "state": {}
     },
     "22a1b7fc35fc42d0acde24755c40bcf4": {
      "model_module": "@jupyter-widgets/controls",
      "model_module_version": "2.0.0",
      "model_name": "HBoxModel",
      "state": {
       "children": [
        "IPY_MODEL_33cab585cdd84393afb39168bff69f8f",
        "IPY_MODEL_8bcd23f4080043899d0eac0ea6ed3e95",
        "IPY_MODEL_e7b9796ca38f4552914e5b226e87a456"
       ],
       "layout": "IPY_MODEL_742d98a6e90145d2ae34ebc172d43ff1"
      }
     },
     "245adb53d3444baf9c824665eb96fdba": {
      "model_module": "@jupyter-widgets/base",
      "model_module_version": "2.0.0",
      "model_name": "LayoutModel",
      "state": {}
     },
     "24dae73d41984e04b1d92fed504806c4": {
      "model_module": "@jupyter-widgets/base",
      "model_module_version": "2.0.0",
      "model_name": "LayoutModel",
      "state": {}
     },
     "2fd805d4c0814accbe963de4d0f97008": {
      "model_module": "@jupyter-widgets/controls",
      "model_module_version": "2.0.0",
      "model_name": "ProgressStyleModel",
      "state": {
       "description_width": ""
      }
     },
     "33cab585cdd84393afb39168bff69f8f": {
      "model_module": "@jupyter-widgets/controls",
      "model_module_version": "2.0.0",
      "model_name": "HTMLModel",
      "state": {
       "layout": "IPY_MODEL_21ab66361448424688a0b90c7276dab4",
       "style": "IPY_MODEL_15113fe88ed1497b97e740d7636d8543",
       "value": "writing frames: 100%"
      }
     },
     "36a4581c3b164a44a4955b05929f61ac": {
      "model_module": "@jupyter-widgets/controls",
      "model_module_version": "2.0.0",
      "model_name": "HTMLStyleModel",
      "state": {
       "description_width": "",
       "font_size": null,
       "text_color": null
      }
     },
     "3ed7241f39c14d03942c5e4b4578ad48": {
      "model_module": "@jupyter-widgets/controls",
      "model_module_version": "2.0.0",
      "model_name": "HTMLStyleModel",
      "state": {
       "description_width": "",
       "font_size": null,
       "text_color": null
      }
     },
     "4701c04796e14b00b8430b40797a2feb": {
      "model_module": "@jupyter-widgets/controls",
      "model_module_version": "2.0.0",
      "model_name": "FloatProgressModel",
      "state": {
       "bar_style": "success",
       "layout": "IPY_MODEL_1fa5b8e1f2af4e2ab4472d2b872ed675",
       "max": 1000,
       "style": "IPY_MODEL_c1db3bac514b43c9ae5db4949a4bf683",
       "value": 1000
      }
     },
     "47a2dff5d03741acbecb791387854300": {
      "model_module": "@jupyter-widgets/controls",
      "model_module_version": "2.0.0",
      "model_name": "HTMLModel",
      "state": {
       "layout": "IPY_MODEL_950d3c9006a04d83a2c903935420f899",
       "style": "IPY_MODEL_6e41f559951f48ecb9ae691604658026",
       "value": "writing frames: 100%"
      }
     },
     "4af6be222abd440fb85c3fa26c5d1e2c": {
      "model_module": "@jupyter-widgets/controls",
      "model_module_version": "2.0.0",
      "model_name": "HTMLModel",
      "state": {
       "layout": "IPY_MODEL_245adb53d3444baf9c824665eb96fdba",
       "style": "IPY_MODEL_90519bcc11b9430eb61a398be1b4e13f",
       "value": " 1000/1000 [00:01&lt;00:00, 958.07it/s]"
      }
     },
     "4de5d520987a454d8aaada9f68599fb7": {
      "model_module": "@jupyter-widgets/base",
      "model_module_version": "2.0.0",
      "model_name": "LayoutModel",
      "state": {}
     },
     "55966f7b53ad418b9dad39661bcdd2b6": {
      "model_module": "@jupyter-widgets/controls",
      "model_module_version": "2.0.0",
      "model_name": "HTMLModel",
      "state": {
       "layout": "IPY_MODEL_7edb1c6f7a554a8dbde56606e19bcbd5",
       "style": "IPY_MODEL_8afda508981b4f9cb360ca4c370a9bbc",
       "value": "writing frames: 100%"
      }
     },
     "55d3734be5b441859ed2ab8337e8cba4": {
      "model_module": "@jupyter-widgets/base",
      "model_module_version": "2.0.0",
      "model_name": "LayoutModel",
      "state": {}
     },
     "59201f021e8041b9a04276ca61e4326b": {
      "model_module": "@jupyter-widgets/controls",
      "model_module_version": "2.0.0",
      "model_name": "HBoxModel",
      "state": {
       "children": [
        "IPY_MODEL_55966f7b53ad418b9dad39661bcdd2b6",
        "IPY_MODEL_4701c04796e14b00b8430b40797a2feb",
        "IPY_MODEL_f63924e134be40d7a9e5840325761652"
       ],
       "layout": "IPY_MODEL_55d3734be5b441859ed2ab8337e8cba4"
      }
     },
     "630e7f499bbf4b33bdcb11c7a811eadc": {
      "model_module": "@jupyter-widgets/controls",
      "model_module_version": "2.0.0",
      "model_name": "HBoxModel",
      "state": {
       "children": [
        "IPY_MODEL_47a2dff5d03741acbecb791387854300",
        "IPY_MODEL_21a69da8a81a419aa263e108a647b7f0",
        "IPY_MODEL_4af6be222abd440fb85c3fa26c5d1e2c"
       ],
       "layout": "IPY_MODEL_0b7a2019105746d0a39fe06e4a1483d2"
      }
     },
     "634f3228be5e47139d0a57f39e7a164d": {
      "model_module": "@jupyter-widgets/controls",
      "model_module_version": "2.0.0",
      "model_name": "HTMLStyleModel",
      "state": {
       "description_width": "",
       "font_size": null,
       "text_color": null
      }
     },
     "6e41f559951f48ecb9ae691604658026": {
      "model_module": "@jupyter-widgets/controls",
      "model_module_version": "2.0.0",
      "model_name": "HTMLStyleModel",
      "state": {
       "description_width": "",
       "font_size": null,
       "text_color": null
      }
     },
     "73953cdd37484857b2e9b1bbc9b14fa0": {
      "model_module": "@jupyter-widgets/base",
      "model_module_version": "2.0.0",
      "model_name": "LayoutModel",
      "state": {}
     },
     "73c4eb3e1ef74a5e9aad7573bdf8645f": {
      "model_module": "@jupyter-widgets/controls",
      "model_module_version": "2.0.0",
      "model_name": "HTMLStyleModel",
      "state": {
       "description_width": "",
       "font_size": null,
       "text_color": null
      }
     },
     "742a8df7e5e4439ab64e9a06c1ee502b": {
      "model_module": "@jupyter-widgets/base",
      "model_module_version": "2.0.0",
      "model_name": "LayoutModel",
      "state": {}
     },
     "742d98a6e90145d2ae34ebc172d43ff1": {
      "model_module": "@jupyter-widgets/base",
      "model_module_version": "2.0.0",
      "model_name": "LayoutModel",
      "state": {}
     },
     "7a779623a6c74de59943a81e268e516b": {
      "model_module": "@jupyter-widgets/base",
      "model_module_version": "2.0.0",
      "model_name": "LayoutModel",
      "state": {}
     },
     "7edb1c6f7a554a8dbde56606e19bcbd5": {
      "model_module": "@jupyter-widgets/base",
      "model_module_version": "2.0.0",
      "model_name": "LayoutModel",
      "state": {}
     },
     "8afda508981b4f9cb360ca4c370a9bbc": {
      "model_module": "@jupyter-widgets/controls",
      "model_module_version": "2.0.0",
      "model_name": "HTMLStyleModel",
      "state": {
       "description_width": "",
       "font_size": null,
       "text_color": null
      }
     },
     "8bcd23f4080043899d0eac0ea6ed3e95": {
      "model_module": "@jupyter-widgets/controls",
      "model_module_version": "2.0.0",
      "model_name": "FloatProgressModel",
      "state": {
       "bar_style": "success",
       "layout": "IPY_MODEL_742a8df7e5e4439ab64e9a06c1ee502b",
       "max": 1000,
       "style": "IPY_MODEL_d41379125ddc4024b0c6e1e4c7d2730e",
       "value": 1000
      }
     },
     "90519bcc11b9430eb61a398be1b4e13f": {
      "model_module": "@jupyter-widgets/controls",
      "model_module_version": "2.0.0",
      "model_name": "HTMLStyleModel",
      "state": {
       "description_width": "",
       "font_size": null,
       "text_color": null
      }
     },
     "950d3c9006a04d83a2c903935420f899": {
      "model_module": "@jupyter-widgets/base",
      "model_module_version": "2.0.0",
      "model_name": "LayoutModel",
      "state": {}
     },
     "9516014edfb54e108931c09980c691c0": {
      "model_module": "@jupyter-widgets/controls",
      "model_module_version": "2.0.0",
      "model_name": "HTMLModel",
      "state": {
       "layout": "IPY_MODEL_db8ee26c4d9b476db5d496c0ac419e91",
       "style": "IPY_MODEL_73c4eb3e1ef74a5e9aad7573bdf8645f",
       "value": " 1000/1000 [00:01&lt;00:00, 953.11it/s]"
      }
     },
     "a7733c3cf6604f98b3432834a1fb9fd4": {
      "model_module": "@jupyter-widgets/controls",
      "model_module_version": "2.0.0",
      "model_name": "HTMLStyleModel",
      "state": {
       "description_width": "",
       "font_size": null,
       "text_color": null
      }
     },
     "ac5c216f2d264365816b0486fb215e5e": {
      "model_module": "@jupyter-widgets/base",
      "model_module_version": "2.0.0",
      "model_name": "LayoutModel",
      "state": {}
     },
     "b5e953b593054a9291cfc0bea679df65": {
      "model_module": "@jupyter-widgets/base",
      "model_module_version": "2.0.0",
      "model_name": "LayoutModel",
      "state": {}
     },
     "b7a731b8675f4818ac3c5d5b09fb7078": {
      "model_module": "@jupyter-widgets/controls",
      "model_module_version": "2.0.0",
      "model_name": "ProgressStyleModel",
      "state": {
       "description_width": ""
      }
     },
     "c1db3bac514b43c9ae5db4949a4bf683": {
      "model_module": "@jupyter-widgets/controls",
      "model_module_version": "2.0.0",
      "model_name": "ProgressStyleModel",
      "state": {
       "description_width": ""
      }
     },
     "c34dffc47e3e475f8725eabf9a273e2c": {
      "model_module": "@jupyter-widgets/controls",
      "model_module_version": "2.0.0",
      "model_name": "FloatProgressModel",
      "state": {
       "bar_style": "success",
       "layout": "IPY_MODEL_12f1af2e7e3d4ae284db39dca74bac89",
       "max": 1000,
       "style": "IPY_MODEL_2fd805d4c0814accbe963de4d0f97008",
       "value": 1000
      }
     },
     "c6a2ef602d6f4ab1a8d8a7a43fa17578": {
      "model_module": "@jupyter-widgets/controls",
      "model_module_version": "2.0.0",
      "model_name": "HTMLStyleModel",
      "state": {
       "description_width": "",
       "font_size": null,
       "text_color": null
      }
     },
     "caf8b23550264333bd98c7ca7cfb06ec": {
      "model_module": "@jupyter-widgets/base",
      "model_module_version": "2.0.0",
      "model_name": "LayoutModel",
      "state": {}
     },
     "cc2dbc8bc4274d8a9c03c302c65a6f4d": {
      "model_module": "@jupyter-widgets/controls",
      "model_module_version": "2.0.0",
      "model_name": "ProgressStyleModel",
      "state": {
       "description_width": ""
      }
     },
     "d41379125ddc4024b0c6e1e4c7d2730e": {
      "model_module": "@jupyter-widgets/controls",
      "model_module_version": "2.0.0",
      "model_name": "ProgressStyleModel",
      "state": {
       "description_width": ""
      }
     },
     "d4954abf677847b6805cc00fa559b835": {
      "model_module": "@jupyter-widgets/base",
      "model_module_version": "2.0.0",
      "model_name": "LayoutModel",
      "state": {}
     },
     "db266223d435450180c08e88c1b3dab0": {
      "model_module": "@jupyter-widgets/controls",
      "model_module_version": "2.0.0",
      "model_name": "HTMLModel",
      "state": {
       "layout": "IPY_MODEL_d4954abf677847b6805cc00fa559b835",
       "style": "IPY_MODEL_634f3228be5e47139d0a57f39e7a164d",
       "value": "writing frames:   0%"
      }
     },
     "db8ee26c4d9b476db5d496c0ac419e91": {
      "model_module": "@jupyter-widgets/base",
      "model_module_version": "2.0.0",
      "model_name": "LayoutModel",
      "state": {}
     },
     "e7b9796ca38f4552914e5b226e87a456": {
      "model_module": "@jupyter-widgets/controls",
      "model_module_version": "2.0.0",
      "model_name": "HTMLModel",
      "state": {
       "layout": "IPY_MODEL_7a779623a6c74de59943a81e268e516b",
       "style": "IPY_MODEL_a7733c3cf6604f98b3432834a1fb9fd4",
       "value": " 1000/1000 [00:01&lt;00:00, 1033.11it/s]"
      }
     },
     "e8cb07ba8db2414c850109c5ea60f24a": {
      "model_module": "@jupyter-widgets/controls",
      "model_module_version": "2.0.0",
      "model_name": "FloatProgressModel",
      "state": {
       "bar_style": "danger",
       "layout": "IPY_MODEL_ac5c216f2d264365816b0486fb215e5e",
       "max": 1000,
       "style": "IPY_MODEL_b7a731b8675f4818ac3c5d5b09fb7078"
      }
     },
     "eafc915acf00482eab5b14d5295bf139": {
      "model_module": "@jupyter-widgets/controls",
      "model_module_version": "2.0.0",
      "model_name": "HTMLModel",
      "state": {
       "layout": "IPY_MODEL_b5e953b593054a9291cfc0bea679df65",
       "style": "IPY_MODEL_c6a2ef602d6f4ab1a8d8a7a43fa17578",
       "value": " 0/1000 [00:00&lt;?, ?it/s]"
      }
     },
     "f63924e134be40d7a9e5840325761652": {
      "model_module": "@jupyter-widgets/controls",
      "model_module_version": "2.0.0",
      "model_name": "HTMLModel",
      "state": {
       "layout": "IPY_MODEL_24dae73d41984e04b1d92fed504806c4",
       "style": "IPY_MODEL_36a4581c3b164a44a4955b05929f61ac",
       "value": " 1000/1000 [00:00&lt;00:00, 1060.16it/s]"
      }
     },
     "faa23b2c33334530be3138f79a0017e0": {
      "model_module": "@jupyter-widgets/controls",
      "model_module_version": "2.0.0",
      "model_name": "HBoxModel",
      "state": {
       "children": [
        "IPY_MODEL_1cd8798722fb40c894db7330efe88741",
        "IPY_MODEL_c34dffc47e3e475f8725eabf9a273e2c",
        "IPY_MODEL_9516014edfb54e108931c09980c691c0"
       ],
       "layout": "IPY_MODEL_17bcb6d0ae2b4be488f9aa7433e01110"
      }
     }
    },
    "version_major": 2,
    "version_minor": 0
   }
  }
 },
 "nbformat": 4,
 "nbformat_minor": 5
}
